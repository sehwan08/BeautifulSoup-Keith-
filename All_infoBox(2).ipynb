{
 "cells": [
  {
   "cell_type": "code",
   "execution_count": 1,
   "id": "14516d2c",
   "metadata": {},
   "outputs": [],
   "source": [
    "from bs4 import BeautifulSoup as bs\n",
    "import requests\n",
    "import json"
   ]
  },
  {
   "cell_type": "code",
   "execution_count": 2,
   "id": "124aa1a0",
   "metadata": {},
   "outputs": [],
   "source": [
    "#JSON 형태로 로드\n",
    "def load_data(title):\n",
    "    with open(title, encoding='utf-8') as f:\n",
    "        return json.load(f)\n",
    "\n",
    "#JSON 형태로 저장\n",
    "def save_data(title, data):\n",
    "    with open(title, 'w', encoding='utf-8') as f:\n",
    "        #json.dumps() = Python 객체를 JSON으로 변환\n",
    "        #ensure_ascii - true면 모든 비 ASCII 문자가 출력 안됨, False면 문자 그대로 출력\n",
    "        #indent - 인덱스폭 (문자 수) 지정\n",
    "        json.dump(data, f, ensure_ascii=False, indent=2)"
   ]
  },
  {
   "cell_type": "code",
   "execution_count": 3,
   "id": "527ede34",
   "metadata": {},
   "outputs": [],
   "source": [
    "movie_info_list = load_data(\"Disney_data.json\")"
   ]
  },
  {
   "cell_type": "code",
   "execution_count": 4,
   "id": "a7da690d",
   "metadata": {},
   "outputs": [],
   "source": [
    "r = requests.get(\"https://en.wikipedia.org/wiki/List_of_Walt_Disney_Pictures_films\")\n",
    "\n",
    "#Convert to a beautifulsoup object\n",
    "soup = bs(r.content, 'html.parser')"
   ]
  },
  {
   "cell_type": "code",
   "execution_count": 5,
   "id": "56fc8fe9",
   "metadata": {},
   "outputs": [],
   "source": [
    "\n",
    "movies = soup.select('.wikitable.sortable i') # 이렇게하면 i를 포함하고있는 '.wikitable.sortable i' 테이블을 리턴\n",
    "# movies[0:10]"
   ]
  },
  {
   "cell_type": "markdown",
   "id": "8c2e49df",
   "metadata": {},
   "source": [
    "### JSON 형태로 저장 시킨 파일을 로드 후 정제 작업"
   ]
  },
  {
   "cell_type": "code",
   "execution_count": 6,
   "id": "c9250de3",
   "metadata": {},
   "outputs": [],
   "source": [
    "\n",
    "def get_content_value(row_data):\n",
    "#     print(row_data)\n",
    "    \n",
    "    if row_data.find('li'):\n",
    "        return [li.get_text(\" \", strip=True).replace(\"\\xa0\", \" \") for li in row_data.find_all('li')]\n",
    "    elif row_data.find(\"br\"):\n",
    "        return [text for text in row_data.stripped_strings]\n",
    "    else:\n",
    "        return row_data.get_text(\" \", strip=True).replace(\"\\xa0\", \" \")\n",
    "\n",
    "    \n",
    "# Clean up references (remove [1], [2] etc)\n",
    "def clean_tags(soup):\n",
    "    for tag in soup.find_all([\"sup\", \"span\"]):\n",
    "        tag.decompose()\n",
    "    \n",
    "    \n",
    "def get_info_box(url):\n",
    "    \n",
    "    r = requests.get(url)\n",
    "\n",
    "    #Convert to a beautifulsoup object\n",
    "    soup = bs(r.content, 'html.parser') #이 'soup' 이 함수 매게변수로 들어 감\n",
    "    info_box = soup.find(class_=\"infobox vevent\")\n",
    "    info_rows = info_box.find_all('tr')\n",
    "    \n",
    "    clean_tags(soup) #이 부분이 cealn_tags() 함수를 탐\n",
    "    \n",
    "    movie_info = {}\n",
    "    \n",
    "    for idx, row in enumerate(info_rows):\n",
    "        if idx == 0: # 타이틀의 인덱스는 = 0\n",
    "            movie_info['title'] = row.find('th').get_text(\" \", strip=True)\n",
    "        else:\n",
    "            header = row.find('th') \n",
    "#             print(header)\n",
    "            if header:#인덱스 0을 제외하고 'th'태그가 있을 경우 if문을 타게 됨\n",
    "                content_key = row.find('th').get_text(\" \", strip=True)\n",
    "    #             print(content_key)\n",
    "                content_value = get_content_value(row.find('td')) #이 부분이 get_content_value를 탐\n",
    "                movie_info[content_key] = content_value\n",
    "    return movie_info"
   ]
  },
  {
   "cell_type": "code",
   "execution_count": 7,
   "id": "b078b6f7",
   "metadata": {},
   "outputs": [
    {
     "data": {
      "text/plain": [
       "{'title': 'Spirited Away',\n",
       " 'Japanese': '',\n",
       " 'Hepburn': 'Sen to Chihiro no Kamikakushi',\n",
       " 'Directed by': 'Hayao Miyazaki',\n",
       " 'Written by': 'Hayao Miyazaki',\n",
       " 'Produced by': 'Toshio Suzuki',\n",
       " 'Starring': ['Rumi Hiiragi',\n",
       "  'Miyu Irino',\n",
       "  'Mari Natsuki',\n",
       "  'Takeshi Naito',\n",
       "  'Yasuko Sawaguchi',\n",
       "  'Tsunehiko Kamijō',\n",
       "  'Takehiko Ono',\n",
       "  'Bunta Sugawara'],\n",
       " 'Cinematography': 'Atsushi Okui',\n",
       " 'Edited by': 'Takeshi Seyama',\n",
       " 'Music by': 'Joe Hisaishi',\n",
       " 'Production company': 'Studio Ghibli',\n",
       " 'Distributed by': 'Toho',\n",
       " 'Release date': ['20 July 2001 (Japan)'],\n",
       " 'Running time': '125 minutes',\n",
       " 'Country': 'Japan',\n",
       " 'Language': 'Japanese',\n",
       " 'Budget': '(US$15–19.2 million)',\n",
       " 'Box office': ''}"
      ]
     },
     "execution_count": 7,
     "metadata": {},
     "output_type": "execute_result"
    }
   ],
   "source": [
    "get_info_box(\"https://en.wikipedia.org/wiki/Spirited_Away\")"
   ]
  },
  {
   "cell_type": "code",
   "execution_count": 8,
   "id": "b65f95ca",
   "metadata": {},
   "outputs": [
    {
     "name": "stdout",
     "output_type": "stream",
     "text": [
      "Zorro the Avenger\n",
      "'NoneType' object has no attribute 'find'\n",
      "The Sign of Zorro\n",
      "'NoneType' object has no attribute 'find'\n",
      "True-Life Adventures\n",
      "'NoneType' object has no attribute 'find_all'\n",
      "The London Connection\n",
      "'NoneType' object has no attribute 'find'\n",
      "The Beatles: Get Back–The Rooftop Concert\n",
      "'NoneType' object has no attribute 'find'\n",
      "Sister Act 3\n",
      "'NoneType' object has no attribute 'find'\n",
      "Tower of Terror\n",
      "'NoneType' object has no attribute 'find_all'\n",
      "Tron: Ares\n",
      "'NoneType' object has no attribute 'find'\n"
     ]
    }
   ],
   "source": [
    "r = requests.get(\"https://en.wikipedia.org/wiki/List_of_Walt_Disney_Pictures_films\")\n",
    "\n",
    "#Convert to a beautifulsoup object\n",
    "soup = bs(r.content, 'html.parser')\n",
    "\n",
    "\n",
    "# movies = soup.select('.wikitable.sortable i')으로는 아래의 Nonetype이 있으므로 조금 더 구체적으로 가져오자\n",
    "movies = soup.select('.wikitable.sortable i a') #즉 <i>태그 중 <a>를 가진 것만 들고 옴\n",
    "# print(len(movies)) #NoneType 제외하고 개수를 확인 510개로 나옴\n",
    "\n",
    "\n",
    "base_path = \"https://en.wikipedia.org/\" #기본 url을 세팅 후\n",
    "\n",
    "\n",
    "movie_info_list = [] #들고 오는 내용을 담을 리스트\n",
    "for index, movie in enumerate(movies):\n",
    "#     if index % 10 == 0:\n",
    "#         print(index)\n",
    "    #디버깅용\n",
    "#     if index == 10:\n",
    "#         break     \n",
    "    try:\n",
    "        relative_path = movie['href']\n",
    "        full_path = base_path + relative_path #긁어오는 'href'를 더해서 full_path 만든 후 함수에 삽입\n",
    "        title = movie['title']\n",
    "#         relative_path = movie.a['href'] # <i>태그 중 <a>만 들고 오니 .a는 생략\n",
    "#         title = movie.a['title']\n",
    "        #위의 결과들을 print 해보면 relative_path가 가져오는 'href'가 없는 부분이 있다. 여기서 try/catch가 필요\n",
    "#         print(relative_path)\n",
    "#         print(title)\n",
    "#         print()\n",
    "        \n",
    "        movie_info_list.append(get_info_box(full_path)) #여기에 들어갈 url 세팅 (base_path + full_path)\n",
    "        \n",
    "    except Exception as e: #즉 오류부분이면 여기를타고 아래를 실행 \n",
    "        print(movie.get_text()) #이 부분에서 어떤 movie에서 오류가 나오는지 보인다\n",
    "        #몇몇의 movie가 테이블의 Title에서 'href'를 들고오는게아닌 'Note'부분에서 들고 온다. \n",
    "        #몇몇의 movie가 테이블의 Title에서 'href'를 들고 오지만, 링크가 아는 형태이다.\n",
    "        \n",
    "        #최종코드에서 돌려보면 여전히 몇몇의 movie가 find/find_all/get_text가 안된다\n",
    "        print(e)"
   ]
  },
  {
   "cell_type": "code",
   "execution_count": 9,
   "id": "4b40daf8",
   "metadata": {},
   "outputs": [],
   "source": [
    "#JSON 형태로 저장\n",
    "def save_data(title, data):\n",
    "    with open(title, 'w', encoding='utf-8') as f:\n",
    "        #json.dumps() = Python 객체를 JSON으로 변환\n",
    "        #ensure_ascii - true면 모든 비 ASCII 문자가 출력 안됨, False면 문자 그대로 출력\n",
    "        #indent - 인덱스폭 (문자 수) 지정\n",
    "        json.dump(data, f, ensure_ascii=False, indent=2)"
   ]
  },
  {
   "cell_type": "code",
   "execution_count": 10,
   "id": "04ecca00",
   "metadata": {},
   "outputs": [],
   "source": [
    "save_data(\"Disney_data.json\", movie_info_list)"
   ]
  },
  {
   "cell_type": "code",
   "execution_count": 11,
   "id": "2eaa4a82",
   "metadata": {},
   "outputs": [],
   "source": [
    "# Split up the long stgrings"
   ]
  },
  {
   "cell_type": "code",
   "execution_count": 12,
   "id": "939583aa",
   "metadata": {},
   "outputs": [
    {
     "data": {
      "text/plain": [
       "{'title': 'Three Men and a Baby',\n",
       " 'Directed by': 'Leonard Nimoy',\n",
       " 'Screenplay by': ['Jim Cruickshank', 'James Orr'],\n",
       " 'Based on': ['Trois hommes et un couffin', 'by', 'Coline Serreau'],\n",
       " 'Produced by': ['Ted Field', 'Robert W. Cort'],\n",
       " 'Starring': ['Tom Selleck', 'Steve Guttenberg', 'Ted Danson'],\n",
       " 'Cinematography': 'Adam Greenberg',\n",
       " 'Edited by': 'Michael A. Stevenson',\n",
       " 'Music by': 'Marvin Hamlisch',\n",
       " 'Production companies': ['Touchstone Pictures',\n",
       "  'Silver Screen Partners III',\n",
       "  'Interscope Communications'],\n",
       " 'Distributed by': 'Buena Vista Pictures',\n",
       " 'Release date': ['November 25, 1987'],\n",
       " 'Running time': '102 minutes',\n",
       " 'Country': 'United States',\n",
       " 'Language': 'English',\n",
       " 'Budget': '$11 million',\n",
       " 'Box office': '$240 million'}"
      ]
     },
     "execution_count": 12,
     "metadata": {},
     "output_type": "execute_result"
    }
   ],
   "source": [
    "movie_info_list[-8]"
   ]
  },
  {
   "cell_type": "code",
   "execution_count": 37,
   "id": "0950077a",
   "metadata": {
    "scrolled": true
   },
   "outputs": [
    {
     "name": "stdout",
     "output_type": "stream",
     "text": [
      "[41, 83, 88, 126, 74, 64, 70, 42, 70, 71, 75, 94, 73, 75, 82, 68, 74, 96, 75, 84, 77, 92, 69, 81, 60, 127, 92, 76, 75, 73, 85, 81, 70, 90, 80, 75, 83, 83, 72, 97, 75, 104, 93, 105, 95, 97, 134, 69, 92, 126, 79, 97, 128, 73, 91, 105, 98, 130, 89, 93, 67, 98, 100, 118, 103, 110, 80, 79, 91, 91, 97, 118, 139, 131, 92, 87, 116, 93, 110, 110, 131, 101, 108, 84, 78, 75, 164, 106, 110, 99, 113, 108, 112, 93, 91, 93, 100, 100, 79, 96, 113, 89, 118, 92, 88, 92, 87, 93, 93, 93, 90, 83, 96, 88, 89, 91, 93, 92, 97, 100, 100, 89, 91, 112, 115, 95, 91, 97, 104, 74, 48, 77, 104, 128, 101, 94, 104, 90, 100, 88, 93, 98, 112, 84, 97, 97, 114, 96, 97, 109, 83, 90, 107, 96, 103, 91, 95, 105, 113, 80, 101, 90, 74, 90, 89, 110, 74, 93, 84, 83, 74, 77, 107, 93, 88, 108, 84, 121, 89, 104, 90, 86, 84, 108, 107, 96, 98, 105, 108, 94, 106, 102, 88, 102, 102, 97, 111, 100, 96, 98, 78, 81, 108, 89, 99, 89, 81, 92, 100, 89, 79, 91, 101, 104, 103, 86, 105, 75, 93, 92, 98, 95, 93, 87, 93, 87, 128, 77, 86, 95, 114, 93, 83, 83, 88, 78, 112, 92, 75, 78, 72, 82, 104, 113, 100, 78, 83, 69, 96, 115, 86, 92, 65, 99, 73, 73, 66, 128, 85, 88, 125, 96, 104, 95, 74, 72, 88, 75, 61, 117, 94, 100, 143, 96, 64, 87, 85, 86, 97, 74, 136, 76, 85, 65, 76, 40, 120, 84, 113, 65, 115, 67, 131, 100, 79, 68, 95, 97, 75, 100, 119, 100, 76, 68, 67, 120, 81, 143, 72, 118, 72, 40, 120, 99, 82, 117, 72, 150, 104, 73, 76, 92, 69, 70, 95, 94, 167, 111, 85, 82, 87, 110, 107, 124, 74, 82, 150, 97, 77, 78, 91, 100, 112, 93, 96, 99, 76, 98, 97, 99, 101, 96, None, 90, 101, 82, 107, 101, 96, 88, 97, 108, 104, 116, 103, 109, 115, 79, 74, 123, 108, 100, 125, None, 84, 90, 88, 109, 89, 104, 137, 106, 63, 88, 103, 93, 95, 132, 77, 96, 93, 104, 75, 89, 87, 101, 130, 77, 104, 149, 92, 81, 102, 125, 78, 107, 77, 124, 97, 84, 127, 81, 102, 124, 129, 76, 106, 82, 130, 95, 154, 97, 117, 108, 106, 99, 113, 97, 118, 103, 124, 107, 161, 80, 129, 76, 129, 102, None, 162, 114, 105, 109, 118, 104, 99, 112, 131, 112, 76, 128, 100, 118, 119, 104, 100, 104, 114, 99, 102, 107, 78, 89, 95, 160, 85, 100, 95, 115, 110, 122, 100, 121, 95, 107, 134, 95, 128, 102, 58, None, None, None, None, None, None, None, None, None, 58, None, None, None, None, 102, None, None, 85, 124, None, 83, 108]\n"
     ]
    }
   ],
   "source": [
    "print([movie.get('Running time (int)', 'N/A') for movie in movie_info_list])"
   ]
  },
  {
   "cell_type": "code",
   "execution_count": 38,
   "id": "3bc43f82",
   "metadata": {},
   "outputs": [],
   "source": [
    "def minute_to_interger(running_time):\n",
    "    if running_time == \"N/A\": #'Running time'이 없는 것은 'N/A'로 전처리를 미리 했기때문에 가능\n",
    "        return None\n",
    "    if isinstance(running_time, list): #running_time이 list 형태이면 아래 수행\n",
    "        return int(running_time[0].split(\" \")[0])\n",
    "        #여기서 리스트 형태중 0번째 인덱스 내용만 가져와서 저장\n",
    "    else:\n",
    "        return int(running_time.split(\" \")[0])#'85 minutes' 형태에서 [0]번째를 split 하면 85만 남는다\n",
    "\n",
    "for movie in movie_info_list:\n",
    "    movie['Running time (int)'] = minute_to_interger(movie.get('Running time', 'N/A'))\n"
   ]
  },
  {
   "cell_type": "code",
   "execution_count": 39,
   "id": "488755a2",
   "metadata": {},
   "outputs": [
    {
     "data": {
      "text/plain": [
       "{'title': 'Three Men and a Baby',\n",
       " 'Directed by': 'Leonard Nimoy',\n",
       " 'Screenplay by': ['Jim Cruickshank', 'James Orr'],\n",
       " 'Based on': ['Trois hommes et un couffin', 'by', 'Coline Serreau'],\n",
       " 'Produced by': ['Ted Field', 'Robert W. Cort'],\n",
       " 'Starring': ['Tom Selleck', 'Steve Guttenberg', 'Ted Danson'],\n",
       " 'Cinematography': 'Adam Greenberg',\n",
       " 'Edited by': 'Michael A. Stevenson',\n",
       " 'Music by': 'Marvin Hamlisch',\n",
       " 'Production companies': ['Touchstone Pictures',\n",
       "  'Silver Screen Partners III',\n",
       "  'Interscope Communications'],\n",
       " 'Distributed by': 'Buena Vista Pictures',\n",
       " 'Release date': ['November 25, 1987'],\n",
       " 'Running time': '102 minutes',\n",
       " 'Country': 'United States',\n",
       " 'Language': 'English',\n",
       " 'Budget': '$11 million',\n",
       " 'Box office': '$240 million',\n",
       " 'Running time (int)': 102,\n",
       " 'Budget (float)': 11000000.0,\n",
       " 'Box office (float)': 240000000.0,\n",
       " 'Release date (datetime)': datetime.datetime(1987, 11, 25, 0, 0)}"
      ]
     },
     "execution_count": 39,
     "metadata": {},
     "output_type": "execute_result"
    }
   ],
   "source": [
    "movie_info_list[-8]"
   ]
  },
  {
   "cell_type": "code",
   "execution_count": 40,
   "id": "a1421ce6",
   "metadata": {
    "scrolled": true
   },
   "outputs": [
    {
     "name": "stdout",
     "output_type": "stream",
     "text": [
      "['N/A', '$1.49 million', '$2.6 million', '$2.28 million', '$600,000', '$950,000', '$858,000', 'N/A', '$788,000', 'N/A', '$1.35 million', '$2.125 million', 'N/A', '$1.5 million', '$1.5 million', 'N/A', '$2.2 million', '$1,800,000', '$3 million', 'N/A', '$4 million', '$2 million', '$300,000', '$1.8 million', 'N/A', '$5 million', 'N/A', '$4 million', 'N/A', 'N/A', 'N/A', 'N/A', 'N/A', 'N/A', '$700,000', 'N/A', 'N/A', 'N/A', 'N/A', 'N/A', '$6 million', 'under $1 million or $1,250,000', 'N/A', '$2 million', 'N/A', 'N/A', '$2.5 million', 'N/A', 'N/A', '$4 million', '$3.6 million', 'N/A', 'N/A', 'N/A', 'N/A', '$3 million', 'N/A', '$3 million', 'N/A', 'N/A', 'N/A', 'N/A', 'N/A', 'N/A', 'N/A', 'N/A', 'N/A', '$3 million', 'N/A', 'N/A', 'N/A', 'N/A', '$4.4–6 million', 'N/A', 'N/A', 'N/A', 'N/A', 'N/A', 'N/A', 'N/A', 'N/A', 'N/A', 'N/A', 'N/A', '$4 million', 'N/A', '$5 million', 'N/A', 'N/A', 'N/A', 'N/A', '$5 million', 'N/A', 'N/A', 'N/A', 'N/A', 'N/A', 'N/A', '$4 million', 'N/A', 'N/A', 'N/A', '$6.3 million', 'N/A', 'N/A', 'N/A', 'N/A', 'N/A', 'N/A', 'N/A', 'N/A', '$1.5-5 million', 'N/A', 'N/A', 'N/A', 'N/A', '$8 million', 'N/A', 'N/A', 'N/A', 'N/A', 'N/A', 'AU$1 million', 'N/A', 'N/A', 'N/A', 'N/A', '$5 million', 'N/A', 'N/A', 'N/A', '$7.5 million', 'N/A', '$10 million', 'N/A', 'N/A', '$3.5 to 4 million', 'N/A', 'N/A', 'N/A', '$5.25 million', '$20 million', 'N/A', '$9 million', 'N/A', '$6-8 million', '$20 million', 'N/A', 'N/A', '$18 million', '$12 million', '$14 million', 'N/A', '', '$5 million', 'unknown', '$20 million', '$11 million', '$28 million', '$44 million', 'N/A', 'N/A', '$14 million', '$9 million', 'N/A', 'A$8.7 million', '$31 million', '$18 million', '$5 million', '$40 million', '$20 million', 'N/A', '$14 million', '60 million Norwegian Kroner (around $8.7 million in 1989)', 'N/A', '$35-40 million', '$25 million', '$15 million', '$40 million', '$14 million', '$28 million', '$12 million', 'N/A', 'N/A', '$6.5 million', '$28 million', '$17 million', '$30 million', 'N/A', '$13 million', 'N/A', 'N/A', '$45 million', '$31 million', 'N/A', '$22 million', '$30 million', 'N/A', '$22 million', ['$32 million', '(estimated)'], '$18 million', '$55 million', '$24 million', '$15 million', '$12 million', 'N/A', '$30 million', 'N/A', '$31 million', 'N/A', '$38 million', '$70 million', '$15 million', 'N/A', '$67 million', 'N/A', '$32 million', '$7 million', '$85 million', '$55 million', '$3 million', '$16 million', '$80 million', '$30 million', '$24 million', '$90 million', '$15 million', 'N/A', '$30 million', '$120 million', '$90 million', '$65 million', '$5 million', 'N/A', '$130 million', '$75–90 million', '$10 million', '$90 million', '$80–$85 million', '$15 million –$30 million', '$4,000,000 (estimated)', '$127.5 million', '$65 million', '$30 million', '$85 million', '$100 million', '$23 million', 'N/A', '$90–120 million', '$26 million', '$25 million', '$115 million', 'N/A', '$33 million', '$20 million', '$5 million', 'N/A', '$22 million', '$80 million', '$35 million', '(US$15–19.2 million)', '$15 million', '$65 million', '$140 million', 'N/A', '$20 million', '$12 million', '$46 million', '$13 million', '$20 million', '$17 million', '$94 million', '$140 million', '$26 million', 'N/A', 'N/A', '$46 million', '$90 million', 'N/A', '$10 million', '$28 million', 'N/A', '$15 million', 'N/A', '$110 million', 'N/A', '$110 million', 'N/A', '$45 million', 'N/A', '$92 million', 'N/A', '$100 million', 'N/A', 'N/A', '$20 million', '$56 million', '$25 million', 'N/A', '$50 million', ['¥', '2.4 billion', 'US$24 million'], '$35 million', '$35 million', 'N/A', 'N/A', '$25 million', '$150 million', '$180 million', 'N/A', '$30 million', 'N/A', '$1 million', '$40 million', '$50 million', '$80 million', '$120 million', 'N/A', '$225 million', '$30 million', 'N/A', '$24 million', '$12 million', 'N/A', 'N/A', '$17 million', '$150 million', '$300 million', '$150 million', 'N/A', '$25 million', 'N/A', '$22 million', '$85 million', '$130 million', '$7 million', '$25 million', '$225 million', '$180 million', 'N/A', '$50 million', '$20 million', 'N/A', '$11 million', 'N/A', '$150 million', '$80 million', 'N/A', '$50 million', '$30 million', '$47 million', 'N/A', '$175 million', 'N/A', '$150 million', ['¥', '3.4 billion', '(', 'US$', '34 million)'], '$30—$35 million', 'N/A', '$8 million ( ₽ 350 million)', '$175–200 million', '$35 million', '$105 million', '$150 –$200 million', '$80 million', '$150–200 million', '$200 million', '$150 million', '$22 million', '$30—$35 million', 'N/A', '$35 million', 'N/A', '$260 million', '$170 million', '', 'N/A', 'N/A', '$150 million', 'N/A', '$5 million', '$8 million', ['$410.6 million (gross)', '$378.5 million (net)'], '$200 million', '$30 million', 'N/A', '$45 million', 'N/A', '$23 million', ['$306.6 million (gross)', '$263.7 million (net)'], '$5 million', 'N/A', '$185 million', '$25 million', '$30—35 million', 'N/A', '$39 million', '$165 million', '$200 million', 'N/A', '$200 million', '$225–250 million', '$50 million', 'N/A', '$150 million', '$35 million', 'N/A', '$51 million', '$5 million', '$25 million', '$180–263 million', '$50 million', '(US$3.1 million)', '$28 million', '$165 million', '$50 million', '$17 million', 'N/A', '$84.21-95 million', '$5–10 million', '$180–190 million', '$175 million', '', '$175–200 million', '$70–80 million', '$150 million', '$175–177 million', 'N/A', '$170 million', '$175–200 million', '$140 million', '$65 million', '$15 million', '$150–175 million', '(US$9.3 million)', '$8 million', '$160–255 million', '$5–10 million', '$230–320 million', '$175 million', 'N/A', ['131 crore'], ['~$8 million', '₽', '370 million'], '$175–225 million', '$100–130 million', '$200 million', '$75 million', '$120–133 million', '$175 million', '$130 million', '$170 million', 'N/A', '$183 million', '$200 million', '$250–260 million', '$185 million', '$60 million', 'N/A', '$150 million', '$40 million', '$42 million', '$175–200 million', 'N/A', 'N/A', 'N/A', '$125 million', '$12.5 million (stage production)', 'N/A', '$24 million', 'N/A', '$200 million', 'Unknown', '$26 million', '$150 million+', '₽ 650 million', 'Unknown', '$100 million+', '$100 million', 'N/A', '$200 million', '$120–150 million', 'N/A', '₽ 454 237 000', 'N/A', 'N/A', 'N/A', 'N/A', 'N/A', 'N/A', 'N/A', '$53.4 million', 'N/A', 'N/A', 'N/A', 'N/A', 'N/A', '$11 million', 'N/A', 'N/A', '$80 million', '$130 million', 'N/A', '$1.49 million', '$35-40 million']\n"
     ]
    }
   ],
   "source": [
    "print([movie.get('Budget', 'N/A') for movie in movie_info_list])"
   ]
  },
  {
   "cell_type": "code",
   "execution_count": 17,
   "id": "98fd4a09",
   "metadata": {},
   "outputs": [],
   "source": [
    "import re"
   ]
  },
  {
   "cell_type": "code",
   "execution_count": 41,
   "id": "6a974118",
   "metadata": {},
   "outputs": [],
   "source": [
    "number = r\"\\d+(,\\d{3})*\\.*\\d*\"\n",
    "amount = r\"thousand|million|billion\"\n",
    "\n",
    "word_re = rf\"\\${number}(-|\\sto\\s|–)?({number})?\\s({amount})\"\n",
    "value_re = rf\"\\${number}\"\n"
   ]
  },
  {
   "cell_type": "code",
   "execution_count": 42,
   "id": "86d0e57d",
   "metadata": {},
   "outputs": [],
   "source": [
    "def word_to_value(word):\n",
    "    value_dict = {\"thousand\":1000, \"million\":1000000, \"billion\":1000000000}\n",
    "    return value_dict[word]\n",
    "\n",
    "def parse_word_syntax(string): #number = \\d+(,\\d{3})*\\.*\\d* / string = money_conversion(\"$790 million\")\n",
    "    value_string = re.search(number, string).group() # value_string = 790, string값중 number와 매칭되는 값만 반환\n",
    "    value = float(value_string.replace(\",\", \"\")) #value_string 값을 소수점으로 바꾸고 replace\n",
    "    word = re.search(amount, string, flags=re.I).group().lower() #string으로 넘어온값중 amount랑 매치 값만 반환\n",
    "    world_value = word_to_value(word) #즉 $790 million이 넘어오면 여기서 million이 매칭되고 이 값을 word_to_value 함수를 타고 값 변환\n",
    "    return value * world_value #(790 * 1000000)\n",
    "\n",
    "def parse_value_syntax(string):\n",
    "    value_string = re.search(number, string).group()#string으로 넘어오는 변수를 number로 정규식을 써서 담음\n",
    "    value = float(value_string.replace(\",\", \"\"))#그 값 중 콤마를 없앰\n",
    "    return value\n",
    "\n",
    "\n",
    "def money_conversion(money):\n",
    "    if money == 'N/A':\n",
    "        return None\n",
    "    \n",
    "    if isinstance(money, list):\n",
    "        money = money[0] #리스트 형식으로 넘어오면 0번째 인덱스만 채택\n",
    "#     print(money)\n",
    "    \n",
    "    word_syntax = re.search(word_re, money, flags=re.I)\n",
    "    value_syntax = re.search(value_re, money)\n",
    "    \n",
    "    if word_syntax:\n",
    "        return parse_word_syntax(word_syntax.group())\n",
    "        \n",
    "    elif value_syntax:\n",
    "        return parse_value_syntax(value_syntax.group())\n",
    "    \n",
    "    else:\n",
    "        return None"
   ]
  },
  {
   "cell_type": "code",
   "execution_count": 43,
   "id": "65e474f8",
   "metadata": {},
   "outputs": [
    {
     "name": "stdout",
     "output_type": "stream",
     "text": [
      "None\n"
     ]
    }
   ],
   "source": [
    "print(money_conversion(\"N/A\"))"
   ]
  },
  {
   "cell_type": "code",
   "execution_count": 44,
   "id": "eda82e2d",
   "metadata": {},
   "outputs": [],
   "source": [
    "for movie in movie_info_list:\n",
    "    movie['Budget (float)'] = money_conversion(movie.get('Budget', 'N/A'))\n",
    "    movie['Box office (float)'] = money_conversion(movie.get('Box office', 'N/A'))"
   ]
  },
  {
   "cell_type": "code",
   "execution_count": 46,
   "id": "c9e9c8df",
   "metadata": {},
   "outputs": [
    {
     "data": {
      "text/plain": [
       "{'title': 'A Wrinkle in Time',\n",
       " 'Directed by': 'Ava DuVernay',\n",
       " 'Screenplay by': ['Jennifer Lee', 'Jeff Stockwell'],\n",
       " 'Based on': ['A Wrinkle in Time', 'by', \"Madeleine L'Engle\"],\n",
       " 'Produced by': ['Jim Whitaker', 'Catherine Hand'],\n",
       " 'Starring': ['Oprah Winfrey',\n",
       "  'Reese Witherspoon',\n",
       "  'Mindy Kaling',\n",
       "  'Gugu Mbatha-Raw',\n",
       "  'Michael Peña',\n",
       "  'Zach Galifianakis',\n",
       "  'Chris Pine'],\n",
       " 'Cinematography': 'Tobias A. Schliessler',\n",
       " 'Edited by': 'Spencer Averick',\n",
       " 'Music by': 'Ramin Djawadi',\n",
       " 'Production companies': ['Walt Disney Pictures', 'Whitaker Entertainment'],\n",
       " 'Distributed by': ['Walt Disney Studios', 'Motion Pictures'],\n",
       " 'Release date': ['February 26, 2018 ( El Capitan Theatre )',\n",
       "  'March 9, 2018 (United States)'],\n",
       " 'Running time': '109 minutes',\n",
       " 'Country': 'United States',\n",
       " 'Language': 'English',\n",
       " 'Budget': '$100–130 million',\n",
       " 'Box office': '$133.4 million',\n",
       " 'Running time (int)': 109,\n",
       " 'Budget (float)': 100000000.0,\n",
       " 'Box office (float)': 133400000.0,\n",
       " 'Release date (datetime)': datetime.datetime(2018, 2, 26, 0, 0)}"
      ]
     },
     "execution_count": 46,
     "metadata": {},
     "output_type": "execute_result"
    }
   ],
   "source": [
    "movie_info_list[-60]"
   ]
  },
  {
   "cell_type": "code",
   "execution_count": 23,
   "id": "04108cd3",
   "metadata": {},
   "outputs": [
    {
     "data": {
      "text/plain": [
       "100000000.0"
      ]
     },
     "execution_count": 23,
     "metadata": {},
     "output_type": "execute_result"
    }
   ],
   "source": [
    "money_conversion(movie_info_list[-60]['Budget'])"
   ]
  },
  {
   "cell_type": "code",
   "execution_count": 47,
   "id": "61617766",
   "metadata": {},
   "outputs": [
    {
     "name": "stdout",
     "output_type": "stream",
     "text": [
      "[['May 19, 1937'], ['December 21, 1937 ( Carthay Circle Theatre )'], ['February 7, 1940 ( Center Theatre )', 'February 23, 1940 (United States)'], ['November 13, 1940'], ['June 27, 1941'], ['October 23, 1941 (New York City)', 'October 31, 1941 (U.S.)'], ['August 9, 1942 (World Premiere – London)', 'August 13, 1942 (Premiere – New York City)', 'August 21, 1942 (U.S.)'], ['August 24, 1942 (World Premiere – Rio de Janeiro)', 'February 6, 1943 (U.S. Premiere – Boston)', 'February 19, 1943 (U.S.)'], ['July 17, 1943'], ['December 21, 1944 (Mexico City)', 'February 3, 1945 (US)'], ['April 20, 1946 (New York City premiere)', 'August 15, 1946 (U.S.)'], ['November 12, 1946 (Premiere: Atlanta, Georgia)', 'November 20, 1946', 'March 30, 1947 (Stanford Theatre, Palo Alto, California)'], ['September 27, 1947'], 'May 27, 1948', ['November 29, 1948 (Chicago, Illinois)', 'January 19, 1949 (Indianapolis, Indiana)'], ['October 5, 1949'], ['February 15, 1950 (Boston)', 'March 4, 1950 (United States)'], ['June 22, 1950 (World Premiere-London)', 'July 29, 1950 (US)'], ['July 26, 1951 (London, premiere)', 'July 28, 1951 (New York City, premiere)'], ['March 13, 1952 (Premiere- London )', 'June 26, 1952 ( US )'], ['February 5, 1953 (United States)'], [\"July 23, 1953 ('US )\"], ['November 10, 1953'], ['26 October 1953 (Premiere- London )', '27 February 1954 ( US )'], ['August 17, 1954'], ['December 23, 1954'], 'May 25, 1955', ['June 22, 1955'], ['September 14, 1955'], 'December 22, 1955', 'June 8, 1956', 'July 18, 1956', ['September 4, 1956'], ['December 20, 1956'], 'June 19, 1957', 'August 28, 1957', ['December 25, 1957'], ['July 8, 1958'], ['August 12, 1958'], ['December 25, 1958'], ['January 29, 1959'], ['March 19, 1959'], ['June 24, 1959 (Dublin)', 'June 26, 1959 (Los Angeles)'], ['November 10, 1959'], 'January 21, 1960 ( Sarasota, FL )', ['February 24, 1960'], 'May 19, 1960', ['June 1960 ( Berlin )', 'August 10, 1960 (US)'], ['November 1, 1960'], ['December 21, 1960'], ['January 25, 1961'], 'March 16, 1961', ['June 21, 1961'], ['July 12, 1961'], ['July 17, 1961'], ['December 14, 1961'], 'April 5, 1962', ['May 17, 1962'], ['June 6, 1962'], 'September 26, 1962', ['November 7, 1962 (Los Angeles)'], ['November 14, 1962 (London, premiere)', 'December 19, 1962 (US)'], ['January 16, 1963'], ['March 29, 1963 (U.S.)'], ['June 1, 1963'], ['July 7, 1963'], 'November 20, 1963', ['December 25, 1963'], ['March 12, 1964'], ['February 11, 1964 (Los Angeles)'], ['11 December 1963 ( New York City )', '4 June 1964 (U.S.)'], ['July 2, 1964'], ['August 27, 1964 (LA)', 'September 24, 1964 (NY)'], 'November 10, 1964', ['December 18, 1964'], ['August 18, 1965 (Los Angeles)'], ['December 2, 1965'], ['February 4, 1966 (premiere)', 'February 16, 1966 (United States)'], ['June 25, 1966 (San Diego)', 'June 29, 1966 (U.S.)'], 'October 1, 1966', ['December 1, 1966'], ['February 8, 1967 (San Francisco)'], ['June 15, 1967'], ['July 12, 1967'], ['October 18, 1967'], ['October 19, 1967'], ['June 23, 1967', 'November 30, 1967'], ['February 8, 1968'], ['March 21, 1968 ( Radio City Music Hall )'], ['June 26, 1968'], ['December 3, 1968'], ['December 24, 1968 (limited)', 'March 13, 1969 (wide)'], ['May 9, 1969'], 'September 4, 1969', ['November 28, 1969'], ['February 11, 1970'], 'July 1, 1970', ['December 15, 1970', 'January 20, 1971'], ['December 11, 1970 (premiere)', 'December 24, 1970 (United States)'], 'March 17, 1971', 'June 22, 1971', ['June 30, 1971'], ['October 7, 1971 (United Kingdom)', 'December 13, 1971 (United States)'], ['March 22, 1972 (US)'], 'July 12, 1972', ['July 5, 1972'], ['October 18, 1972'], ['December 22, 1972'], 'February 1, 1973', ['March 23, 1973'], ['June 20, 1973'], ['November 8, 1973'], ['December 14, 1973'], ['June 6, 1974'], ['July 31, 1974'], ['August 1, 1974'], 'December 20, 1974 (with Winnie the Pooh and Tigger Too )', ['February 6, 1975'], ['March 21, 1975 (United States)'], ['July 1, 1975'], ['July 9, 1975'], ['October 8, 1975'], 'December 25, 1975', ['February 11, 1976 (Los Angeles)'], ['July 1, 1976'], ['July 7, 1976'], ['December 16, 1976'], ['December 17, 1976'], ['May 26, 1976', '(UK)', 'March 11, 1977', '(US)'], ['March 11, 1977'], ['June 20, 1977'], ['June 22, 1977'], ['June 24, 1977'], ['November 3, 1977'], 'December 16, 1977', ['March 10, 1978'], ['June 30, 1978 (New York)'], 'July 5, 1978', 'February 9, 1979', ['June 27, 1979'], ['July 19, 1979 (London)', 'August 3, 1979 (Los Angeles)'], ['December 18, 1979 (United Kingdom)', 'December 21, 1979 (United States)'], ['February 8, 1980'], ['April 17, 1980 (New York City)', 'October 9, 1981 (U.S.)'], ['June 27, 1980'], ['July 9, 1980 (Los Angeles)'], ['December 6, 1980 ( Los Angeles )', 'December 12, 1980 ( United States )'], 'February 11, 1981 (Los Angeles)', 'March 20, 1981', ['June 26, 1981'], ['July 10, 1981'], ['August 7, 1981'], 'February 5, 1982', ['July 9, 1982'], 'July 30, 1982', ['March 11, 1983'], ['April 29, 1983 (United States)'], ['October 7, 1983 (limited)', 'January 27, 1984 (release)'], ['June 21, 1985 (United States)'], ['July 24, 1985'], ['September 27, 1985'], ['November 22, 1985'], ['July 2, 1986'], ['August 1, 1986'], ['June 5, 1987'], ['24 March 1988 (Australia)'], ['November 18, 1988'], ['June 23, 1989'], 'August 18, 1989', ['November 17, 1989'], ['August 3, 1990'], ['November 16, 1990'], ['January 18, 1991'], ['3 October 1990'], ['May 24, 1991'], ['June 21, 1991'], ['September 29, 1991 ( NYFF )', 'November 22, 1991 (United States)'], ['April 10, 1992'], ['July 17, 1992'], ['October 2, 1992'], ['November 25, 1992'], ['December 11, 1992'], 'February 3, 1993', ['March 12, 1993'], ['April 2, 1993'], ['July 16, 1993'], ['October 1, 1993'], ['November 12, 1993'], ['January 14, 1994'], ['February 11, 1994'], ['April 17, 1994'], ['April 14, 1994'], ['June 15, 1994 (United States)'], ['July 15, 1994'], ['October 28, 1994'], ['November 11, 1994'], ['December 25, 1994'], ['February 17, 1995'], ['March 3, 1995'], ['March 24, 1995'], ['April 7, 1995'], ['June 10, 1995', 'June 23, 1995'], ['July 28, 1995'], ['August 11, 1995'], ['September 27, 1995'], ['January 22, 1995 ( Sundance Film Festival )', 'October 20, 1995 (U.S.)'], ['November 19, 1995 ( El Capitan Theatre )', 'November 22, 1995 (United States)'], ['December 22, 1995'], ['February 16, 1996'], ['March 8, 1996'], ['April 12, 1996 (United States)', 'August 2, 1996 (United Kingdom)'], ['June 19, 1996 (New Orleans)', 'June 21, 1996 (United States)'], ['August 30, 1996'], ['October 4, 1996'], ['November 27, 1996 (United States)'], ['February 14, 1997'], ['March 7, 1997 (US)', 'August 5, 1997 (France)'], 'March 18, 1997', ['June 13, 1997 (United States)'], ['July 16, 1997'], ['August 1, 1997'], ['October 10, 1997'], ['November 16, 1997 ( Pennsylvania )', 'November 26, 1997 (United States)'], ['December 25, 1997'], ['March 27, 1998 (United States)'], ['June 19, 1998'], ['July 29, 1998 (United States)'], 'September 29, 1998', ['November 13, 1998'], ['November 20, 1998'], ['December 25, 1998'], ['February 12, 1999'], ['March 26, 1999'], ['May 14, 1999'], ['June 12, 1999 ( El Capitan Theatre )', 'June 16, 1999 (United States )'], ['July 23, 1999'], ['May 1999 ( Cannes )', 'October 15, 1999 (United States)'], ['November 13, 1999 ( El Capitan Theatre )', 'November 24, 1999 (United States)'], ['December 17, 1999 (Premiere)', 'January 1, 2000 ( IMAX )', 'June 16, 2000 (United States)'], ['February 11, 2000 (United States)', 'March 24, 2004 (', 'Toon Disney', ')', 'August 29, 2005 (', 'Disney Channel', ')', 'August 22, 2000 (', 'DVD', 'and', 'VHS', ')'], ['March 10, 2000'], ['May 19, 2000 (United States)'], ['July 7, 2000'], ['September 29, 2000'], ['November 22, 2000 (United States)'], ['December 8, 2000 (premiere)', 'December 15, 2000'], ['February 10, 2001 (premiere)', 'February 16, 2001 (United States)'], ['February 27, 2001'], ['June 3, 2001 (premiere)', 'June 15, 2001 (United States)'], ['July 29, 2001 ( El Capitan Theatre )', 'August 3, 2001 (United States)'], ['October 5, 2001'], ['October 28, 2001 ( El Capitan Theatre )', 'November 2, 2001 (United States)'], ['November 6, 2001'], ['January 18, 2002'], ['February 10, 2002 ( New York City )', 'February 15, 2002 (United States)'], ['February 26, 2002'], ['March 19, 2002'], ['March 29, 2002'], ['June 14, 2002 (premiere)', 'June 21, 2002'], ['July 21, 2002', 'July 26, 2002'], ['20 July 2001 (Japan)'], ['October 11, 2002 (U.S.)'], ['November 1, 2002'], ['November 27, 2002'], ['January 21, 2003'], ['February 14, 2003'], ['March 11, 2003'], ['March 16, 2003 (Premiere)', 'March 21, 2003 (United States)', 'July 2, 2003 ( Manila , Philippines )'], ['March 31, 2003 (premiere)', 'April 11, 2003 (limited)'], ['April 18, 2003 (United States)'], ['May 2, 2003 (United States)'], ['May 30, 2003'], ['June 28, 2003 ( Disneyland Resort )', 'July 9, 2003 (United States)'], ['August 4, 2003 ( Los Angeles )', 'August 6, 2003 (United States)'], ['August 26, 2003'], ['October 21, 2003'], ['November 1, 2003'], ['November 26, 2003'], ['December 25, 2003'], ['January 16, 2004'], ['February 20, 2004'], ['February 10, 2004'], ['February 17, 2004 (United States)'], ['March 9, 2004'], ['April 2, 2004'], ['April 22, 2004'], ['June 16, 2004'], ['July 2, 2004'], ['August 11, 2004'], ['August 17, 2004'], ['October 24, 2004 ( El Capitan Theatre )', 'November 5, 2004 (United States)'], ['November 9, 2004'], ['November 19, 2004'], ['January 28, 2005'], ['November 3, 2004 (Italy)', 'February 1, 2005 (United States)'], ['February 11, 2005'], ['March 4, 2005'], ['March 18, 2005'], ['June 14, 2005'], ['June 22, 2005'], ['5 September 2004 ( Venice )', '20 November 2004 (Japan)'], ['July 29, 2005'], ['March 25, 2005 (UK)', 'August 19, 2005 (US)'], ['August 30, 2005'], ['September 13, 2005'], ['September 30, 2005'], ['October 30, 2005 ( El Capitan Theatre )', 'November 4, 2005 (United States)'], ['December 7, 2005 ( Royal Film Performance )', 'December 8, 2005 (United Kingdom)', 'December 9, 2005 (United States)'], 'December 13, 2005', 'January 13, 2006', ['January 26, 2006 (Argentina)', 'February 7, 2006 (United States)'], ['January 27, 2006'], ['February 17, 2006 (United States)'], ['March 10, 2006'], ['April 14, 2006'], [\"May 26, 2006 ( Lowe's Motor Speedway )\", 'June 9, 2006 (United States)'], ['June 23, 2006', 'June 27, 2006'], ['June 24, 2006 ( Disneyland Resort )', 'July 7, 2006 (United States)'], ['August 25, 2006'], ['August 29, 2006'], ['October 13, 1993 (limited)', 'October 29, 1993 (United States)'], ['November 3, 2006'], ['December 12, 2006'], ['February 6, 2007'], ['February 16, 2007'], ['March 23, 2007 (United Kingdom)', 'March 30, 2007 (United States)'], ['May 19, 2007 ( Disneyland Resort )', 'May 25, 2007 (United States)'], ['June 22, 2007 ( Kodak Theatre )', 'June 29, 2007 (United States)'], ['June 29, 2007'], ['August 3, 2007'], ['August 28, 2007'], ['September 23, 2007 ( Hollywood )', 'September 28, 2007 (United States)'], ['October 20, 2007 ( London )', 'November 21, 2007 (United States)'], ['December 21, 2007'], 'February 1, 2008', ['March 7, 2008'], ['May 7, 2008 ( New York City )', 'May 16, 2008 (United States)', 'June 26, 2008 (United Kingdom)'], ['June 23, 2008 ( Los Angeles )', 'June 27, 2008 (United States)'], ['August 26, 2008'], ['October 28, 2008'], ['October 3, 2008 (United States)'], 'October 17, 2008', ['October 17, 2008 (London)', 'October 24, 2008 (United States)'], ['23 October 2008 (Kuwait)', '24 October 2008 (India and United States)'], ['November 21, 2008'], ['December 25, 2008'], ['February 27, 2009'], ['March 11, 2009 (Egypt)', 'March 13, 2009 (United States)'], ['April 10, 2009'], ['10 October 2007 (France)', '16 November 2007 (United Kingdom)', '12 January 2008 (Germany)', '22 April 2009 (United States)'], ['April 24, 2009 (San Francisco International Film Festival)', 'May 22, 2009 (United States)'], ['May 13, 2009 ( Cannes )', 'May 29, 2009 (United States)'], 'N/A', ['July 24, 2009'], ['July 19, 2008'], ['June 5, 2009 (Japan)', 'October 27, 2009 (United States)', 'February 15, 2010 (Hindi)'], ['2008'], ['October 29, 2009'], ['November 3, 2009 ( London )', 'November 6, 2009 (United States)'], ['November 25, 2009'], ['November 25, 2009 (Los Angeles premiere)', 'December 11, 2009 (United States)'], ['February 25, 2010 ( Odeon Leicester Square )', 'March 5, 2010 (United States)'], ['October 17, 2009 ( Tokyo International Film Festival )', 'January 24, 2010 (France)'], ['May 9, 2010 (London premiere)', 'May 28, 2010 (United States)'], ['June 12, 2010 ( Taormina Film Fest )', 'June 18, 2010 (United States)'], ['July 8, 2010 (Fantasia Film Festival)', 'July 14, 2010'], ['July 29, 2006'], ['August 13, 2010 (United Kingdom)', 'September 21, 2010 (United States)'], ['26 October 2008 ( France )', '29 September 2009 ( United Kingdom )'], ['September 30, 2010 ( Hollywood )', 'October 8, 2010 (United States)'], ['8 October 2010'], ['November 14, 2010 ( El Capitan Theatre )', 'November 24, 2010 (United States)'], ['November 30, 2010 (Tokyo)', 'December 17, 2010 (United States)'], ['14 January 2011 (India)'], ['February 1, 2011'], ['17 February 2011'], ['March 6, 2011 ( El Capitan Theatre )', 'March 11, 2011 (United States)'], ['22 April 2011'], ['April 22, 2011 (United States)', 'February 1, 2012 (France)', 'April 27, 2012 (United Kingdom)'], ['April 29, 2011'], ['May 7, 2011 ( Disneyland Resort )', 'May 20, 2011 (United States)'], ['June 18, 2011 (Hollywood)', 'June 24, 2011 (United States)'], ['April 6, 2011 (Belgium)', 'July 15, 2011 (United States)'], ['September 20, 2011'], ['November 4, 2011 (Savannah Film Festival)', 'November 23, 2011 (United States)'], ['January 31, 2012'], ['17 July 2010'], ['February 22, 2012 ( Los Angeles )', 'March 9, 2012 (United States)'], ['April 20, 2012 (United States)', 'February 20, 2013 (France)', 'May 3, 2013 (United Kingdom)'], ['25 May 2012'], ['June 10, 2012 ( SIFF )', 'June 22, 2012 (United States)'], ['August 15, 2012'], ['August 16, 2012 (Ukraine)', 'August 31, 2012 (United States (limited))', 'October 23, 2012 (DVD release)'], ['September 18, 2012'], ['September 20, 2012 (Fantastic Fest)', 'October 5, 2012 (United States)'], ['October 29, 2012 ( El Capitan Theatre )', 'November 2, 2012 (United States)'], ['February 14, 2013 ( El Capitan Theatre )', 'March 8, 2013 (United States)'], ['16 March 2011 (France)', '16 April 2013 (United States)'], ['June 5, 2013 ( BFI Southbank )', 'June 21, 2013 (United States)'], ['June 22, 2013 ( Hyperion Theatre )', 'July 3, 2013 (United States)'], ['August 2, 2013 ( EAA AirVenture Oshkosh )', 'August 9, 2013 (United States)'], ['August 27, 2013'], ['November 19, 2013 ( El Capitan Theatre )', 'November 22, 2013 (United States)'], ['October 20, 2013 ( BFI London Film Festival )', 'November 29, 2013 (United Kingdom)', 'December 13, 2013 (United States)', 'January 9, 2014 (Australia)'], ['February 13, 2014 (Denmark)', 'April 1, 2014 (United States)'], ['March 11, 2014 ( El Capitan Theatre )', 'March 21, 2014 (United States)'], ['April 18, 2014 (United States)'], ['May 6, 2014 ( El Capitan Theatre )', 'May 16, 2014 (United States)'], ['May 28, 2014 ( El Capitan Theatre )', 'May 30, 2014 (United States)'], ['July 15, 2014 ( El Capitan Theatre )', 'July 18, 2014 (United States)'], ['19 September 2014'], ['October 6, 2014 ( El Capitan Theatre )', 'October 10, 2014 (United States)'], ['October 23, 2014 ( Tokyo International Film Festival )', 'October 31, 2014 ( Abu Dhabi Film Festival )', 'November 7, 2014 (United States)'], ['December 8, 2014 ( Ziegfeld Theatre )', 'December 25, 2014 (United States)'], ['February 9, 2015 ( Hollywood )', 'February 20, 2015 (United States)'], ['December 12, 2014 (United Kingdom)', 'March 3, 2015 (United States)'], ['February 13, 2015 ( Berlin )', 'March 13, 2015 (United States)', 'March 27, 2015 (United Kingdom)'], ['April 17, 2015 (United States)'], ['May 9, 2015 ( Disneyland )', 'May 22, 2015 (United States)'], ['May 18, 2015 ( Cannes )', 'June 19, 2015 (United States)'], ['19 June 2015'], ['November 10, 2015 ( Paris )', 'November 25, 2015 (United States)'], ['January 25, 2016 ( TCL Chinese Theatre )', 'January 29, 2016 (United States)'], ['February 13, 2016 (Belgium)', 'March 4, 2016 (United States)'], ['April 4, 2016 ( El Capitan Theatre )', 'April 15, 2016 (United States)'], ['April 23, 2016 (Amsterdam)', 'May 6, 2016 (Spain)', 'May 12, 2016 (Italy)'], ['May 10, 2016 ( London )', 'May 27, 2016 (United States)'], ['June 8, 2016 ( El Capitan Theatre )', 'June 17, 2016 (United States)'], ['May 14, 2016 ( Cannes )', 'July 1, 2016 (United States)', 'July 22, 2016 (United Kingdom)'], ['August 8, 2016 ( El Capitan Theatre )', 'August 12, 2016 (United States)'], ['September 10, 2016 ( TIFF )', 'September 23, 2016 (United States)'], ['November 14, 2016 ( AFI Fest )', 'November 23, 2016 (United States)'], ['21 December 2016 (United States)', '23 December 2016 (India)'], ['24 June 2005'], ['February 23, 2017 ( Spencer House )', 'March 17, 2017 (United States)'], ['August 12, 2016 (China)', 'April 21, 2017 (United States)', 'August 23, 2017 (France)'], ['May 11, 2017 ( Shanghai Disney Resort )', 'May 26, 2017 (United States)'], ['May 23, 2017 ( Kannapolis )', 'June 16, 2017 (United States)'], ['June 30, 2017 (United States)'], ['14 July 2017'], ['October 29, 2017 ( Russia )'], ['October 20, 2017 ( Morelia )', 'November 22, 2017 (United States)'], ['February 26, 2018 ( El Capitan Theatre )', 'March 9, 2018 (United States)'], ['June 5, 2018 ( Los Angeles )', 'June 15, 2018 (United States)'], ['July 30, 2018 ( Burbank )', 'August 3, 2018 (United States)'], ['October 29, 2018 ( Dolby Theatre )', 'November 2, 2018 (United States)'], ['November 5, 2018 ( El Capitan Theatre )', 'November 21, 2018 (United States)'], ['November 29, 2018 ( Dolby Theatre )', 'December 19, 2018 (United States)'], ['March 11, 2019 ( Los Angeles )', 'March 29, 2019 (United States)'], ['April 17, 2019 (United States)'], ['May 8, 2019 ( Grand Rex )', 'May 24, 2019 (United States)'], ['June 11, 2019 ( El Capitan Theatre )', 'June 21, 2019 (United States)'], ['July 9, 2019 ( Hollywood )', 'July 19, 2019 (United States)'], ['October 18, 2019'], ['November 12, 2019 (United States)'], ['November 12, 2019 (United States)'], ['November 7, 2019 ( Dolby Theatre )', 'November 22, 2019 (United States)'], ['December 20, 2019 (United States)'], ['January 25, 2020 ( Sundance )', 'February 7, 2020 ( Disney+ )'], ['February 21, 2020 ( Berlinale )', 'March 6, 2020 (United States)'], ['March 13, 2020 (United States)'], ['March 28, 2018 (France)', 'April 3, 2020 ( Disney+ )'], ['April 3, 2020'], ['June 12, 2020'], ['July 3, 2020'], ['July 31, 2020'], ['August 14, 2020'], ['August 21, 2020 (United States)'], ['March 9, 2020 ( Hollywood )', 'September 4, 2020 (United States)'], ['December 4, 2020 (United States)'], ['December 11, 2020 (United States)'], ['October 11, 2020 ( BFI Fest )', 'December 25, 2020 (United States)'], ['January 1, 2021 ( Russia )'], ['February 19, 2021 (United States)'], ['March 5, 2021 (United States)'], ['May 18, 2021 ( El Capitan Theatre )', 'May 28, 2021 (United States)'], ['June 13, 2021 ( Aquarium of Genoa )', 'June 18, 2021 (United States)'], ['July 24, 2021 ( Disneyland Resort )', 'July 30, 2021 (United States)'], ['November 3, 2021 ( El Capitan Theatre )', 'November 24, 2021 (United States)'], ['December 3, 2021'], ['December 23, 2021'], ['March 11, 2022 (United States)'], ['June 17, 2022'], 'May 26, 2023', ['2022'], ['2022'], ['2022'], '2022', 'N/A', ['December 3, 2021'], ['2022'], 'N/A', ['2022'], ['2022'], ['November 25, 1987'], 'N/A', 'N/A', ['June 14, 2002 (premiere)', 'June 21, 2002'], ['December 21, 2007'], 'N/A', ['December 21, 1937 ( Carthay Circle Theatre )'], ['June 21, 1991']]\n"
     ]
    }
   ],
   "source": [
    "# Convert Dates to datetiems\n",
    "print([movie.get('Release date', 'N/A') for movie in movie_info_list])"
   ]
  },
  {
   "cell_type": "code",
   "execution_count": 48,
   "id": "dc55f698",
   "metadata": {},
   "outputs": [
    {
     "name": "stdout",
     "output_type": "stream",
     "text": [
      "[['May 19, 1937'], ['December 21, 1937 ( Carthay Circle Theatre )'], ['February 7, 1940 ( Center Theatre )', 'February 23, 1940 (United States)'], ['November 13, 1940'], ['June 27, 1941'], ['October 23, 1941 (New York City)', 'October 31, 1941 (U.S.)'], ['August 9, 1942 (World Premiere – London)', 'August 13, 1942 (Premiere – New York City)', 'August 21, 1942 (U.S.)'], ['August 24, 1942 (World Premiere – Rio de Janeiro)', 'February 6, 1943 (U.S. Premiere – Boston)', 'February 19, 1943 (U.S.)'], ['July 17, 1943'], ['December 21, 1944 (Mexico City)', 'February 3, 1945 (US)'], ['April 20, 1946 (New York City premiere)', 'August 15, 1946 (U.S.)'], ['November 12, 1946 (Premiere: Atlanta, Georgia)', 'November 20, 1946', 'March 30, 1947 (Stanford Theatre, Palo Alto, California)'], ['September 27, 1947'], 'May 27, 1948', ['November 29, 1948 (Chicago, Illinois)', 'January 19, 1949 (Indianapolis, Indiana)'], ['October 5, 1949'], ['February 15, 1950 (Boston)', 'March 4, 1950 (United States)'], ['June 22, 1950 (World Premiere-London)', 'July 29, 1950 (US)'], ['July 26, 1951 (London, premiere)', 'July 28, 1951 (New York City, premiere)'], ['March 13, 1952 (Premiere- London )', 'June 26, 1952 ( US )'], ['February 5, 1953 (United States)'], [\"July 23, 1953 ('US )\"], ['November 10, 1953'], ['26 October 1953 (Premiere- London )', '27 February 1954 ( US )'], ['August 17, 1954'], ['December 23, 1954'], 'May 25, 1955', ['June 22, 1955'], ['September 14, 1955'], 'December 22, 1955', 'June 8, 1956', 'July 18, 1956', ['September 4, 1956'], ['December 20, 1956'], 'June 19, 1957', 'August 28, 1957', ['December 25, 1957'], ['July 8, 1958'], ['August 12, 1958'], ['December 25, 1958'], ['January 29, 1959'], ['March 19, 1959'], ['June 24, 1959 (Dublin)', 'June 26, 1959 (Los Angeles)'], ['November 10, 1959'], 'January 21, 1960 ( Sarasota, FL )', ['February 24, 1960'], 'May 19, 1960', ['June 1960 ( Berlin )', 'August 10, 1960 (US)'], ['November 1, 1960'], ['December 21, 1960'], ['January 25, 1961'], 'March 16, 1961', ['June 21, 1961'], ['July 12, 1961'], ['July 17, 1961'], ['December 14, 1961'], 'April 5, 1962', ['May 17, 1962'], ['June 6, 1962'], 'September 26, 1962', ['November 7, 1962 (Los Angeles)'], ['November 14, 1962 (London, premiere)', 'December 19, 1962 (US)'], ['January 16, 1963'], ['March 29, 1963 (U.S.)'], ['June 1, 1963'], ['July 7, 1963'], 'November 20, 1963', ['December 25, 1963'], ['March 12, 1964'], ['February 11, 1964 (Los Angeles)'], ['11 December 1963 ( New York City )', '4 June 1964 (U.S.)'], ['July 2, 1964'], ['August 27, 1964 (LA)', 'September 24, 1964 (NY)'], 'November 10, 1964', ['December 18, 1964'], ['August 18, 1965 (Los Angeles)'], ['December 2, 1965'], ['February 4, 1966 (premiere)', 'February 16, 1966 (United States)'], ['June 25, 1966 (San Diego)', 'June 29, 1966 (U.S.)'], 'October 1, 1966', ['December 1, 1966'], ['February 8, 1967 (San Francisco)'], ['June 15, 1967'], ['July 12, 1967'], ['October 18, 1967'], ['October 19, 1967'], ['June 23, 1967', 'November 30, 1967'], ['February 8, 1968'], ['March 21, 1968 ( Radio City Music Hall )'], ['June 26, 1968'], ['December 3, 1968'], ['December 24, 1968 (limited)', 'March 13, 1969 (wide)'], ['May 9, 1969'], 'September 4, 1969', ['November 28, 1969'], ['February 11, 1970'], 'July 1, 1970', ['December 15, 1970', 'January 20, 1971'], ['December 11, 1970 (premiere)', 'December 24, 1970 (United States)'], 'March 17, 1971', 'June 22, 1971', ['June 30, 1971'], ['October 7, 1971 (United Kingdom)', 'December 13, 1971 (United States)'], ['March 22, 1972 (US)'], 'July 12, 1972', ['July 5, 1972'], ['October 18, 1972'], ['December 22, 1972'], 'February 1, 1973', ['March 23, 1973'], ['June 20, 1973'], ['November 8, 1973'], ['December 14, 1973'], ['June 6, 1974'], ['July 31, 1974'], ['August 1, 1974'], 'December 20, 1974 (with Winnie the Pooh and Tigger Too )', ['February 6, 1975'], ['March 21, 1975 (United States)'], ['July 1, 1975'], ['July 9, 1975'], ['October 8, 1975'], 'December 25, 1975', ['February 11, 1976 (Los Angeles)'], ['July 1, 1976'], ['July 7, 1976'], ['December 16, 1976'], ['December 17, 1976'], ['May 26, 1976', '(UK)', 'March 11, 1977', '(US)'], ['March 11, 1977'], ['June 20, 1977'], ['June 22, 1977'], ['June 24, 1977'], ['November 3, 1977'], 'December 16, 1977', ['March 10, 1978'], ['June 30, 1978 (New York)'], 'July 5, 1978', 'February 9, 1979', ['June 27, 1979'], ['July 19, 1979 (London)', 'August 3, 1979 (Los Angeles)'], ['December 18, 1979 (United Kingdom)', 'December 21, 1979 (United States)'], ['February 8, 1980'], ['April 17, 1980 (New York City)', 'October 9, 1981 (U.S.)'], ['June 27, 1980'], ['July 9, 1980 (Los Angeles)'], ['December 6, 1980 ( Los Angeles )', 'December 12, 1980 ( United States )'], 'February 11, 1981 (Los Angeles)', 'March 20, 1981', ['June 26, 1981'], ['July 10, 1981'], ['August 7, 1981'], 'February 5, 1982', ['July 9, 1982'], 'July 30, 1982', ['March 11, 1983'], ['April 29, 1983 (United States)'], ['October 7, 1983 (limited)', 'January 27, 1984 (release)'], ['June 21, 1985 (United States)'], ['July 24, 1985'], ['September 27, 1985'], ['November 22, 1985'], ['July 2, 1986'], ['August 1, 1986'], ['June 5, 1987'], ['24 March 1988 (Australia)'], ['November 18, 1988'], ['June 23, 1989'], 'August 18, 1989', ['November 17, 1989'], ['August 3, 1990'], ['November 16, 1990'], ['January 18, 1991'], ['3 October 1990'], ['May 24, 1991'], ['June 21, 1991'], ['September 29, 1991 ( NYFF )', 'November 22, 1991 (United States)'], ['April 10, 1992'], ['July 17, 1992'], ['October 2, 1992'], ['November 25, 1992'], ['December 11, 1992'], 'February 3, 1993', ['March 12, 1993'], ['April 2, 1993'], ['July 16, 1993'], ['October 1, 1993'], ['November 12, 1993'], ['January 14, 1994'], ['February 11, 1994'], ['April 17, 1994'], ['April 14, 1994'], ['June 15, 1994 (United States)'], ['July 15, 1994'], ['October 28, 1994'], ['November 11, 1994'], ['December 25, 1994'], ['February 17, 1995'], ['March 3, 1995'], ['March 24, 1995'], ['April 7, 1995'], ['June 10, 1995', 'June 23, 1995'], ['July 28, 1995'], ['August 11, 1995'], ['September 27, 1995'], ['January 22, 1995 ( Sundance Film Festival )', 'October 20, 1995 (U.S.)'], ['November 19, 1995 ( El Capitan Theatre )', 'November 22, 1995 (United States)'], ['December 22, 1995'], ['February 16, 1996'], ['March 8, 1996'], ['April 12, 1996 (United States)', 'August 2, 1996 (United Kingdom)'], ['June 19, 1996 (New Orleans)', 'June 21, 1996 (United States)'], ['August 30, 1996'], ['October 4, 1996'], ['November 27, 1996 (United States)'], ['February 14, 1997'], ['March 7, 1997 (US)', 'August 5, 1997 (France)'], 'March 18, 1997', ['June 13, 1997 (United States)'], ['July 16, 1997'], ['August 1, 1997'], ['October 10, 1997'], ['November 16, 1997 ( Pennsylvania )', 'November 26, 1997 (United States)'], ['December 25, 1997'], ['March 27, 1998 (United States)'], ['June 19, 1998'], ['July 29, 1998 (United States)'], 'September 29, 1998', ['November 13, 1998'], ['November 20, 1998'], ['December 25, 1998'], ['February 12, 1999'], ['March 26, 1999'], ['May 14, 1999'], ['June 12, 1999 ( El Capitan Theatre )', 'June 16, 1999 (United States )'], ['July 23, 1999'], ['May 1999 ( Cannes )', 'October 15, 1999 (United States)'], ['November 13, 1999 ( El Capitan Theatre )', 'November 24, 1999 (United States)'], ['December 17, 1999 (Premiere)', 'January 1, 2000 ( IMAX )', 'June 16, 2000 (United States)'], ['February 11, 2000 (United States)', 'March 24, 2004 (', 'Toon Disney', ')', 'August 29, 2005 (', 'Disney Channel', ')', 'August 22, 2000 (', 'DVD', 'and', 'VHS', ')'], ['March 10, 2000'], ['May 19, 2000 (United States)'], ['July 7, 2000'], ['September 29, 2000'], ['November 22, 2000 (United States)'], ['December 8, 2000 (premiere)', 'December 15, 2000'], ['February 10, 2001 (premiere)', 'February 16, 2001 (United States)'], ['February 27, 2001'], ['June 3, 2001 (premiere)', 'June 15, 2001 (United States)'], ['July 29, 2001 ( El Capitan Theatre )', 'August 3, 2001 (United States)'], ['October 5, 2001'], ['October 28, 2001 ( El Capitan Theatre )', 'November 2, 2001 (United States)'], ['November 6, 2001'], ['January 18, 2002'], ['February 10, 2002 ( New York City )', 'February 15, 2002 (United States)'], ['February 26, 2002'], ['March 19, 2002'], ['March 29, 2002'], ['June 14, 2002 (premiere)', 'June 21, 2002'], ['July 21, 2002', 'July 26, 2002'], ['20 July 2001 (Japan)'], ['October 11, 2002 (U.S.)'], ['November 1, 2002'], ['November 27, 2002'], ['January 21, 2003'], ['February 14, 2003'], ['March 11, 2003'], ['March 16, 2003 (Premiere)', 'March 21, 2003 (United States)', 'July 2, 2003 ( Manila , Philippines )'], ['March 31, 2003 (premiere)', 'April 11, 2003 (limited)'], ['April 18, 2003 (United States)'], ['May 2, 2003 (United States)'], ['May 30, 2003'], ['June 28, 2003 ( Disneyland Resort )', 'July 9, 2003 (United States)'], ['August 4, 2003 ( Los Angeles )', 'August 6, 2003 (United States)'], ['August 26, 2003'], ['October 21, 2003'], ['November 1, 2003'], ['November 26, 2003'], ['December 25, 2003'], ['January 16, 2004'], ['February 20, 2004'], ['February 10, 2004'], ['February 17, 2004 (United States)'], ['March 9, 2004'], ['April 2, 2004'], ['April 22, 2004'], ['June 16, 2004'], ['July 2, 2004'], ['August 11, 2004'], ['August 17, 2004'], ['October 24, 2004 ( El Capitan Theatre )', 'November 5, 2004 (United States)'], ['November 9, 2004'], ['November 19, 2004'], ['January 28, 2005'], ['November 3, 2004 (Italy)', 'February 1, 2005 (United States)'], ['February 11, 2005'], ['March 4, 2005'], ['March 18, 2005'], ['June 14, 2005'], ['June 22, 2005'], ['5 September 2004 ( Venice )', '20 November 2004 (Japan)'], ['July 29, 2005'], ['March 25, 2005 (UK)', 'August 19, 2005 (US)'], ['August 30, 2005'], ['September 13, 2005'], ['September 30, 2005'], ['October 30, 2005 ( El Capitan Theatre )', 'November 4, 2005 (United States)'], ['December 7, 2005 ( Royal Film Performance )', 'December 8, 2005 (United Kingdom)', 'December 9, 2005 (United States)'], 'December 13, 2005', 'January 13, 2006', ['January 26, 2006 (Argentina)', 'February 7, 2006 (United States)'], ['January 27, 2006'], ['February 17, 2006 (United States)'], ['March 10, 2006'], ['April 14, 2006'], [\"May 26, 2006 ( Lowe's Motor Speedway )\", 'June 9, 2006 (United States)'], ['June 23, 2006', 'June 27, 2006'], ['June 24, 2006 ( Disneyland Resort )', 'July 7, 2006 (United States)'], ['August 25, 2006'], ['August 29, 2006'], ['October 13, 1993 (limited)', 'October 29, 1993 (United States)'], ['November 3, 2006'], ['December 12, 2006'], ['February 6, 2007'], ['February 16, 2007'], ['March 23, 2007 (United Kingdom)', 'March 30, 2007 (United States)'], ['May 19, 2007 ( Disneyland Resort )', 'May 25, 2007 (United States)'], ['June 22, 2007 ( Kodak Theatre )', 'June 29, 2007 (United States)'], ['June 29, 2007'], ['August 3, 2007'], ['August 28, 2007'], ['September 23, 2007 ( Hollywood )', 'September 28, 2007 (United States)'], ['October 20, 2007 ( London )', 'November 21, 2007 (United States)'], ['December 21, 2007'], 'February 1, 2008', ['March 7, 2008'], ['May 7, 2008 ( New York City )', 'May 16, 2008 (United States)', 'June 26, 2008 (United Kingdom)'], ['June 23, 2008 ( Los Angeles )', 'June 27, 2008 (United States)'], ['August 26, 2008'], ['October 28, 2008'], ['October 3, 2008 (United States)'], 'October 17, 2008', ['October 17, 2008 (London)', 'October 24, 2008 (United States)'], ['23 October 2008 (Kuwait)', '24 October 2008 (India and United States)'], ['November 21, 2008'], ['December 25, 2008'], ['February 27, 2009'], ['March 11, 2009 (Egypt)', 'March 13, 2009 (United States)'], ['April 10, 2009'], ['10 October 2007 (France)', '16 November 2007 (United Kingdom)', '12 January 2008 (Germany)', '22 April 2009 (United States)'], ['April 24, 2009 (San Francisco International Film Festival)', 'May 22, 2009 (United States)'], ['May 13, 2009 ( Cannes )', 'May 29, 2009 (United States)'], 'N/A', ['July 24, 2009'], ['July 19, 2008'], ['June 5, 2009 (Japan)', 'October 27, 2009 (United States)', 'February 15, 2010 (Hindi)'], ['2008'], ['October 29, 2009'], ['November 3, 2009 ( London )', 'November 6, 2009 (United States)'], ['November 25, 2009'], ['November 25, 2009 (Los Angeles premiere)', 'December 11, 2009 (United States)'], ['February 25, 2010 ( Odeon Leicester Square )', 'March 5, 2010 (United States)'], ['October 17, 2009 ( Tokyo International Film Festival )', 'January 24, 2010 (France)'], ['May 9, 2010 (London premiere)', 'May 28, 2010 (United States)'], ['June 12, 2010 ( Taormina Film Fest )', 'June 18, 2010 (United States)'], ['July 8, 2010 (Fantasia Film Festival)', 'July 14, 2010'], ['July 29, 2006'], ['August 13, 2010 (United Kingdom)', 'September 21, 2010 (United States)'], ['26 October 2008 ( France )', '29 September 2009 ( United Kingdom )'], ['September 30, 2010 ( Hollywood )', 'October 8, 2010 (United States)'], ['8 October 2010'], ['November 14, 2010 ( El Capitan Theatre )', 'November 24, 2010 (United States)'], ['November 30, 2010 (Tokyo)', 'December 17, 2010 (United States)'], ['14 January 2011 (India)'], ['February 1, 2011'], ['17 February 2011'], ['March 6, 2011 ( El Capitan Theatre )', 'March 11, 2011 (United States)'], ['22 April 2011'], ['April 22, 2011 (United States)', 'February 1, 2012 (France)', 'April 27, 2012 (United Kingdom)'], ['April 29, 2011'], ['May 7, 2011 ( Disneyland Resort )', 'May 20, 2011 (United States)'], ['June 18, 2011 (Hollywood)', 'June 24, 2011 (United States)'], ['April 6, 2011 (Belgium)', 'July 15, 2011 (United States)'], ['September 20, 2011'], ['November 4, 2011 (Savannah Film Festival)', 'November 23, 2011 (United States)'], ['January 31, 2012'], ['17 July 2010'], ['February 22, 2012 ( Los Angeles )', 'March 9, 2012 (United States)'], ['April 20, 2012 (United States)', 'February 20, 2013 (France)', 'May 3, 2013 (United Kingdom)'], ['25 May 2012'], ['June 10, 2012 ( SIFF )', 'June 22, 2012 (United States)'], ['August 15, 2012'], ['August 16, 2012 (Ukraine)', 'August 31, 2012 (United States (limited))', 'October 23, 2012 (DVD release)'], ['September 18, 2012'], ['September 20, 2012 (Fantastic Fest)', 'October 5, 2012 (United States)'], ['October 29, 2012 ( El Capitan Theatre )', 'November 2, 2012 (United States)'], ['February 14, 2013 ( El Capitan Theatre )', 'March 8, 2013 (United States)'], ['16 March 2011 (France)', '16 April 2013 (United States)'], ['June 5, 2013 ( BFI Southbank )', 'June 21, 2013 (United States)'], ['June 22, 2013 ( Hyperion Theatre )', 'July 3, 2013 (United States)'], ['August 2, 2013 ( EAA AirVenture Oshkosh )', 'August 9, 2013 (United States)'], ['August 27, 2013'], ['November 19, 2013 ( El Capitan Theatre )', 'November 22, 2013 (United States)'], ['October 20, 2013 ( BFI London Film Festival )', 'November 29, 2013 (United Kingdom)', 'December 13, 2013 (United States)', 'January 9, 2014 (Australia)'], ['February 13, 2014 (Denmark)', 'April 1, 2014 (United States)'], ['March 11, 2014 ( El Capitan Theatre )', 'March 21, 2014 (United States)'], ['April 18, 2014 (United States)'], ['May 6, 2014 ( El Capitan Theatre )', 'May 16, 2014 (United States)'], ['May 28, 2014 ( El Capitan Theatre )', 'May 30, 2014 (United States)'], ['July 15, 2014 ( El Capitan Theatre )', 'July 18, 2014 (United States)'], ['19 September 2014'], ['October 6, 2014 ( El Capitan Theatre )', 'October 10, 2014 (United States)'], ['October 23, 2014 ( Tokyo International Film Festival )', 'October 31, 2014 ( Abu Dhabi Film Festival )', 'November 7, 2014 (United States)'], ['December 8, 2014 ( Ziegfeld Theatre )', 'December 25, 2014 (United States)'], ['February 9, 2015 ( Hollywood )', 'February 20, 2015 (United States)'], ['December 12, 2014 (United Kingdom)', 'March 3, 2015 (United States)'], ['February 13, 2015 ( Berlin )', 'March 13, 2015 (United States)', 'March 27, 2015 (United Kingdom)'], ['April 17, 2015 (United States)'], ['May 9, 2015 ( Disneyland )', 'May 22, 2015 (United States)'], ['May 18, 2015 ( Cannes )', 'June 19, 2015 (United States)'], ['19 June 2015'], ['November 10, 2015 ( Paris )', 'November 25, 2015 (United States)'], ['January 25, 2016 ( TCL Chinese Theatre )', 'January 29, 2016 (United States)'], ['February 13, 2016 (Belgium)', 'March 4, 2016 (United States)'], ['April 4, 2016 ( El Capitan Theatre )', 'April 15, 2016 (United States)'], ['April 23, 2016 (Amsterdam)', 'May 6, 2016 (Spain)', 'May 12, 2016 (Italy)'], ['May 10, 2016 ( London )', 'May 27, 2016 (United States)'], ['June 8, 2016 ( El Capitan Theatre )', 'June 17, 2016 (United States)'], ['May 14, 2016 ( Cannes )', 'July 1, 2016 (United States)', 'July 22, 2016 (United Kingdom)'], ['August 8, 2016 ( El Capitan Theatre )', 'August 12, 2016 (United States)'], ['September 10, 2016 ( TIFF )', 'September 23, 2016 (United States)'], ['November 14, 2016 ( AFI Fest )', 'November 23, 2016 (United States)'], ['21 December 2016 (United States)', '23 December 2016 (India)'], ['24 June 2005'], ['February 23, 2017 ( Spencer House )', 'March 17, 2017 (United States)'], ['August 12, 2016 (China)', 'April 21, 2017 (United States)', 'August 23, 2017 (France)'], ['May 11, 2017 ( Shanghai Disney Resort )', 'May 26, 2017 (United States)'], ['May 23, 2017 ( Kannapolis )', 'June 16, 2017 (United States)'], ['June 30, 2017 (United States)'], ['14 July 2017'], ['October 29, 2017 ( Russia )'], ['October 20, 2017 ( Morelia )', 'November 22, 2017 (United States)'], ['February 26, 2018 ( El Capitan Theatre )', 'March 9, 2018 (United States)'], ['June 5, 2018 ( Los Angeles )', 'June 15, 2018 (United States)'], ['July 30, 2018 ( Burbank )', 'August 3, 2018 (United States)'], ['October 29, 2018 ( Dolby Theatre )', 'November 2, 2018 (United States)'], ['November 5, 2018 ( El Capitan Theatre )', 'November 21, 2018 (United States)'], ['November 29, 2018 ( Dolby Theatre )', 'December 19, 2018 (United States)'], ['March 11, 2019 ( Los Angeles )', 'March 29, 2019 (United States)'], ['April 17, 2019 (United States)'], ['May 8, 2019 ( Grand Rex )', 'May 24, 2019 (United States)'], ['June 11, 2019 ( El Capitan Theatre )', 'June 21, 2019 (United States)'], ['July 9, 2019 ( Hollywood )', 'July 19, 2019 (United States)'], ['October 18, 2019'], ['November 12, 2019 (United States)'], ['November 12, 2019 (United States)'], ['November 7, 2019 ( Dolby Theatre )', 'November 22, 2019 (United States)'], ['December 20, 2019 (United States)'], ['January 25, 2020 ( Sundance )', 'February 7, 2020 ( Disney+ )'], ['February 21, 2020 ( Berlinale )', 'March 6, 2020 (United States)'], ['March 13, 2020 (United States)'], ['March 28, 2018 (France)', 'April 3, 2020 ( Disney+ )'], ['April 3, 2020'], ['June 12, 2020'], ['July 3, 2020'], ['July 31, 2020'], ['August 14, 2020'], ['August 21, 2020 (United States)'], ['March 9, 2020 ( Hollywood )', 'September 4, 2020 (United States)'], ['December 4, 2020 (United States)'], ['December 11, 2020 (United States)'], ['October 11, 2020 ( BFI Fest )', 'December 25, 2020 (United States)'], ['January 1, 2021 ( Russia )'], ['February 19, 2021 (United States)'], ['March 5, 2021 (United States)'], ['May 18, 2021 ( El Capitan Theatre )', 'May 28, 2021 (United States)'], ['June 13, 2021 ( Aquarium of Genoa )', 'June 18, 2021 (United States)'], ['July 24, 2021 ( Disneyland Resort )', 'July 30, 2021 (United States)'], ['November 3, 2021 ( El Capitan Theatre )', 'November 24, 2021 (United States)'], ['December 3, 2021'], ['December 23, 2021'], ['March 11, 2022 (United States)'], ['June 17, 2022'], 'May 26, 2023', ['2022'], ['2022'], ['2022'], '2022', 'N/A', ['December 3, 2021'], ['2022'], 'N/A', ['2022'], ['2022'], ['November 25, 1987'], 'N/A', 'N/A', ['June 14, 2002 (premiere)', 'June 21, 2002'], ['December 21, 2007'], 'N/A', ['December 21, 1937 ( Carthay Circle Theatre )'], ['June 21, 1991']]\n"
     ]
    }
   ],
   "source": [
    "#June 28, 1950\n",
    "\n",
    "from datetime import datetime\n",
    "\n",
    "dates = [movie.get('Release date', 'N/A') for movie in movie_info_list]\n",
    "\n",
    "print(dates)"
   ]
  },
  {
   "cell_type": "code",
   "execution_count": 61,
   "id": "961b4937",
   "metadata": {},
   "outputs": [],
   "source": [
    "def clean_date(date):\n",
    "    return date.split(\"(\")[0].strip()\n",
    "\n",
    "def date_conversion(date):\n",
    "    if isinstance(date, list):\n",
    "        date = date[0]\n",
    "        \n",
    "    if date == \"N/A\":\n",
    "        return None\n",
    "    \n",
    "    date_str = clean_date(date)\n",
    "    fmts = [\"%B %d, %Y\", \"%d %B %Y\"]\n",
    "    for fmt in fmts:\n",
    "        try:    \n",
    "            return datetime.strptime(date_str, fmt)\n",
    "        except:\n",
    "            pass\n",
    "    return None"
   ]
  },
  {
   "cell_type": "code",
   "execution_count": 60,
   "id": "8eec8fd7",
   "metadata": {},
   "outputs": [],
   "source": [
    "for movie in movie_info_list:\n",
    "    movie['Release date (datetime)'] = date_conversion(movie.get('Release date', 'N/A'))"
   ]
  },
  {
   "cell_type": "code",
   "execution_count": 62,
   "id": "7ab03847",
   "metadata": {},
   "outputs": [
    {
     "data": {
      "text/plain": [
       "{'title': 'Elephant',\n",
       " 'Directed by': ['Mark Linfield', 'Vanessa Berlowitz'],\n",
       " 'Produced by': ['Mark Linfield', 'Vanessa Berlowitz', 'Roy Conli'],\n",
       " 'Narrated by': 'Meghan, Duchess of Sussex',\n",
       " 'Cinematography': ['Martyn Colbeck', 'Mike Holding', 'Tom Walker'],\n",
       " 'Edited by': 'Nigel Buck',\n",
       " 'Music by': 'Ramin Djawadi',\n",
       " 'Production company': 'Disneynature',\n",
       " 'Distributed by': 'Disney+',\n",
       " 'Release date': ['April 3, 2020'],\n",
       " 'Running time': '89 minutes',\n",
       " 'Country': 'United States',\n",
       " 'Language': 'English',\n",
       " 'Running time (int)': 89,\n",
       " 'Budget (float)': None,\n",
       " 'Box office (float)': None,\n",
       " 'Release date (datetime)': datetime.datetime(2020, 4, 3, 0, 0)}"
      ]
     },
     "execution_count": 62,
     "metadata": {},
     "output_type": "execute_result"
    }
   ],
   "source": [
    "movie_info_list[-40]"
   ]
  },
  {
   "cell_type": "code",
   "execution_count": 52,
   "id": "0ad3f83c",
   "metadata": {},
   "outputs": [],
   "source": [
    "import pickle\n",
    "\n",
    "def save_data_pickle(name, data):\n",
    "    with open(name, 'wb') as f:\n",
    "        pickle.dump(data, f)\n"
   ]
  },
  {
   "cell_type": "code",
   "execution_count": 53,
   "id": "c1a314ed",
   "metadata": {},
   "outputs": [],
   "source": [
    "def load_data_pickle(name):\n",
    "    with open(name, 'rb') as f:\n",
    "        return pickle.load(f)\n"
   ]
  },
  {
   "cell_type": "code",
   "execution_count": 54,
   "id": "cd2c1450",
   "metadata": {},
   "outputs": [],
   "source": [
    "save_data_pickle('disney_movie_cleaned.pickle', movie_info_list)"
   ]
  },
  {
   "cell_type": "code",
   "execution_count": 55,
   "id": "606d1f99",
   "metadata": {},
   "outputs": [],
   "source": [
    "a = load_data_pickle('disney_movie_cleaned.pickle')"
   ]
  },
  {
   "cell_type": "code",
   "execution_count": 63,
   "id": "79d94722",
   "metadata": {},
   "outputs": [
    {
     "data": {
      "text/plain": [
       "{'title': 'Dumbo',\n",
       " 'Directed by': ['Ben Sharpsteen',\n",
       "  'Norman Ferguson',\n",
       "  'Wilfred Jackson',\n",
       "  'Bill Roberts',\n",
       "  'Jack Kinney',\n",
       "  'Samuel Armstrong'],\n",
       " 'Story by': ['Otto Englander', 'Joe Grant', 'Dick Huemer'],\n",
       " 'Based on': ['Dumbo, the Flying Elephant',\n",
       "  'by',\n",
       "  'Helen Aberson',\n",
       "  'Harold Pearl'],\n",
       " 'Produced by': 'Walt Disney',\n",
       " 'Starring': ['Edward Brophy',\n",
       "  'Verna Felton',\n",
       "  'Cliff Edwards',\n",
       "  'Herman Bing',\n",
       "  'Sterling Holloway',\n",
       "  'Margaret Wright',\n",
       "  'Hall Johnson Choir'],\n",
       " 'Narrated by': 'John McLeish',\n",
       " 'Music by': ['Frank Churchill', 'Oliver Wallace'],\n",
       " 'Production company': 'Walt Disney Productions',\n",
       " 'Distributed by': 'RKO Radio Pictures',\n",
       " 'Release date': ['October 23, 1941 (New York City)',\n",
       "  'October 31, 1941 (U.S.)'],\n",
       " 'Running time': '64 minutes',\n",
       " 'Country': 'United States',\n",
       " 'Language': 'English',\n",
       " 'Budget': '$950,000',\n",
       " 'Box office': '>$1.3 million (est. United States/Canada rentals, 1941)',\n",
       " 'Running time (int)': 64,\n",
       " 'Budget (float)': 950000.0,\n",
       " 'Box office (float)': 1300000.0,\n",
       " 'Release date (datetime)': datetime.datetime(1941, 10, 23, 0, 0)}"
      ]
     },
     "execution_count": 63,
     "metadata": {},
     "output_type": "execute_result"
    }
   ],
   "source": [
    "a[5]"
   ]
  },
  {
   "cell_type": "code",
   "execution_count": 57,
   "id": "33641d20",
   "metadata": {},
   "outputs": [
    {
     "data": {
      "text/plain": [
       "True"
      ]
     },
     "execution_count": 57,
     "metadata": {},
     "output_type": "execute_result"
    }
   ],
   "source": [
    "a == movie_info_list"
   ]
  },
  {
   "cell_type": "code",
   "execution_count": 58,
   "id": "b4af7848",
   "metadata": {},
   "outputs": [],
   "source": [
    "movie_info_list = load_data_pickle('disney_movie_cleaned.pickle')"
   ]
  },
  {
   "cell_type": "code",
   "execution_count": 67,
   "id": "397c2c16",
   "metadata": {},
   "outputs": [
    {
     "data": {
      "text/plain": [
       "{'title': 'Dangal',\n",
       " 'Directed by': 'Nitesh Tiwari',\n",
       " 'Written by': ['Saeed Aadil',\n",
       "  'Piyush Gupta',\n",
       "  'Shreyas Jain',\n",
       "  'Nikhil Meharotra'],\n",
       " 'Story by': ['Curation:', 'Nitesh Tiwari', 'Concept:', 'Divya V. Rao'],\n",
       " 'Based on': 'Lives of Mahavir Singh Phogat and Phogat sisters',\n",
       " 'Produced by': ['Aamir Khan', 'Kiran Rao', 'Siddharth Roy Kapur'],\n",
       " 'Starring': ['Aamir Khan',\n",
       "  'Sakshi Tanwar',\n",
       "  'Fatima Sana Shaikh',\n",
       "  'Zaira Wasim',\n",
       "  'Sanya Malhotra',\n",
       "  'Suhani Bhatnagar',\n",
       "  'Aparshakti Khurana',\n",
       "  'Girish Kulkarni'],\n",
       " 'Narrated by': 'Aparshakti Khurana',\n",
       " 'Cinematography': 'Setu',\n",
       " 'Edited by': 'Ballu Saluja',\n",
       " 'Music by': 'Pritam',\n",
       " 'Production companies': ['Aamir Khan Productions',\n",
       "  'Walt Disney Pictures India'],\n",
       " 'Distributed by': 'UTV Motion Pictures',\n",
       " 'Release date': ['21 December 2016 (United States)',\n",
       "  '23 December 2016 (India)'],\n",
       " 'Running time': '161 minutes',\n",
       " 'Country': 'India',\n",
       " 'Language': 'Hindi',\n",
       " 'Budget': '(US$9.3 million)',\n",
       " 'Box office': '(US$270 million)',\n",
       " 'Running time (int)': 161,\n",
       " 'Budget (float)': 9300000.0,\n",
       " 'Box office (float)': 270000000.0,\n",
       " 'Release date (datetime)': datetime.datetime(2016, 12, 21, 0, 0)}"
      ]
     },
     "execution_count": 67,
     "metadata": {},
     "output_type": "execute_result"
    }
   ],
   "source": [
    "movie_info_list[-70]"
   ]
  },
  {
   "cell_type": "code",
   "execution_count": null,
   "id": "751cd8e1",
   "metadata": {},
   "outputs": [],
   "source": [
    "# http://www.omdbapi.com/?apikey=[30089c0e]&"
   ]
  },
  {
   "cell_type": "code",
   "execution_count": 84,
   "id": "d9c0e943",
   "metadata": {
    "scrolled": true
   },
   "outputs": [
    {
     "data": {
      "text/plain": [
       "'71%'"
      ]
     },
     "execution_count": 84,
     "metadata": {},
     "output_type": "execute_result"
    }
   ],
   "source": [
    "import requests\n",
    "import urllib\n",
    "\n",
    "def get_omdb_info(title):\n",
    "    base_url = \"http://www.omdbapi.com/?\"\n",
    "    parameters = {\"apikey\":\"30089c0e\", \"t\":title}\n",
    "    params_encoded = urllib.parse.urlencode(parameters)\n",
    "#     print(params_encoded)\n",
    "    full_url = base_url + params_encoded\n",
    "#     print(full_url)\n",
    "    return requests.get(full_url).json()\n",
    "\n",
    "def get_rotten_tomato_score(omdb_info):\n",
    "    ratings = omdb_info.get('Ratings', [])\n",
    "    for rating in ratings:\n",
    "#         print(rating) #테스트 용!\n",
    "        if rating['Source'] == 'Rotten Tomatoes':\n",
    "            return rating['Value']\n",
    "    return None\n",
    "        \n",
    "        \n",
    "info = get_omdb_info(\"into the woods\")\n",
    "get_rotten_tomato_score(info)"
   ]
  },
  {
   "cell_type": "code",
   "execution_count": 85,
   "id": "f5ac7505",
   "metadata": {},
   "outputs": [],
   "source": [
    "for movie in movie_info_list:\n",
    "    title = movie['title']\n",
    "    omdb_info = get_omdb_info(title)\n",
    "    #여기서 부터는 새로운 내용을 추가!\n",
    "    movie['imdb'] = omdb_info.get('imdbRating', 'N/A')\n",
    "    movie['metascore'] = omdb_info.get('Metascore', 'N/A')\n",
    "    movie['rotten_tomatoes'] = get_rotten_tomato_score(omdb_info)"
   ]
  },
  {
   "cell_type": "code",
   "execution_count": 87,
   "id": "53f3f58c",
   "metadata": {},
   "outputs": [
    {
     "data": {
      "text/plain": [
       "{'title': 'Elephant',\n",
       " 'Directed by': ['Mark Linfield', 'Vanessa Berlowitz'],\n",
       " 'Produced by': ['Mark Linfield', 'Vanessa Berlowitz', 'Roy Conli'],\n",
       " 'Narrated by': 'Meghan, Duchess of Sussex',\n",
       " 'Cinematography': ['Martyn Colbeck', 'Mike Holding', 'Tom Walker'],\n",
       " 'Edited by': 'Nigel Buck',\n",
       " 'Music by': 'Ramin Djawadi',\n",
       " 'Production company': 'Disneynature',\n",
       " 'Distributed by': 'Disney+',\n",
       " 'Release date': ['April 3, 2020'],\n",
       " 'Running time': '89 minutes',\n",
       " 'Country': 'United States',\n",
       " 'Language': 'English',\n",
       " 'Running time (int)': 89,\n",
       " 'Budget (float)': None,\n",
       " 'Box office (float)': None,\n",
       " 'Release date (datetime)': datetime.datetime(2020, 4, 3, 0, 0),\n",
       " 'imdb': '7.2',\n",
       " 'metascore': '70',\n",
       " 'rotten_tomatoes': '73%'}"
      ]
     },
     "execution_count": 87,
     "metadata": {},
     "output_type": "execute_result"
    }
   ],
   "source": [
    "movie_info_list[-40]"
   ]
  },
  {
   "cell_type": "code",
   "execution_count": 88,
   "id": "2aef430a",
   "metadata": {},
   "outputs": [],
   "source": [
    "save_data_pickle('disney_movie_data_final.pickle',movie_info_list)"
   ]
  },
  {
   "cell_type": "code",
   "execution_count": 91,
   "id": "0b7184f0",
   "metadata": {},
   "outputs": [],
   "source": [
    "movie_info_copy = [movie.copy() for movie in movie_info_list]"
   ]
  },
  {
   "cell_type": "code",
   "execution_count": 93,
   "id": "ed263066",
   "metadata": {},
   "outputs": [
    {
     "data": {
      "text/plain": [
       "{'title': 'Elephant',\n",
       " 'Directed by': ['Mark Linfield', 'Vanessa Berlowitz'],\n",
       " 'Produced by': ['Mark Linfield', 'Vanessa Berlowitz', 'Roy Conli'],\n",
       " 'Narrated by': 'Meghan, Duchess of Sussex',\n",
       " 'Cinematography': ['Martyn Colbeck', 'Mike Holding', 'Tom Walker'],\n",
       " 'Edited by': 'Nigel Buck',\n",
       " 'Music by': 'Ramin Djawadi',\n",
       " 'Production company': 'Disneynature',\n",
       " 'Distributed by': 'Disney+',\n",
       " 'Release date': ['April 3, 2020'],\n",
       " 'Running time': '89 minutes',\n",
       " 'Country': 'United States',\n",
       " 'Language': 'English',\n",
       " 'Running time (int)': 89,\n",
       " 'Budget (float)': None,\n",
       " 'Box office (float)': None,\n",
       " 'Release date (datetime)': datetime.datetime(2020, 4, 3, 0, 0),\n",
       " 'imdb': '7.2',\n",
       " 'metascore': '70',\n",
       " 'rotten_tomatoes': '73%'}"
      ]
     },
     "execution_count": 93,
     "metadata": {},
     "output_type": "execute_result"
    }
   ],
   "source": [
    "movie_info_copy[-40]"
   ]
  },
  {
   "cell_type": "code",
   "execution_count": 96,
   "id": "49ab5860",
   "metadata": {},
   "outputs": [],
   "source": [
    "for movie in movie_info_copy:\n",
    "    current_date = movie['Release date (datetime)']\n",
    "    if current_date:\n",
    "        movie['Release date (datetime)'] = current_date.strftime(\"%B %d, %Y\")\n",
    "    else:\n",
    "        movie['Release date (datetime)'] = None"
   ]
  },
  {
   "cell_type": "code",
   "execution_count": 99,
   "id": "4d5e1fb4",
   "metadata": {},
   "outputs": [
    {
     "data": {
      "text/plain": [
       "{'title': 'Elephant',\n",
       " 'Directed by': ['Mark Linfield', 'Vanessa Berlowitz'],\n",
       " 'Produced by': ['Mark Linfield', 'Vanessa Berlowitz', 'Roy Conli'],\n",
       " 'Narrated by': 'Meghan, Duchess of Sussex',\n",
       " 'Cinematography': ['Martyn Colbeck', 'Mike Holding', 'Tom Walker'],\n",
       " 'Edited by': 'Nigel Buck',\n",
       " 'Music by': 'Ramin Djawadi',\n",
       " 'Production company': 'Disneynature',\n",
       " 'Distributed by': 'Disney+',\n",
       " 'Release date': ['April 3, 2020'],\n",
       " 'Running time': '89 minutes',\n",
       " 'Country': 'United States',\n",
       " 'Language': 'English',\n",
       " 'Running time (int)': 89,\n",
       " 'Budget (float)': None,\n",
       " 'Box office (float)': None,\n",
       " 'Release date (datetime)': 'April 03, 2020',\n",
       " 'imdb': '7.2',\n",
       " 'metascore': '70',\n",
       " 'rotten_tomatoes': '73%'}"
      ]
     },
     "execution_count": 99,
     "metadata": {},
     "output_type": "execute_result"
    }
   ],
   "source": [
    "movie_info_copy[-40]"
   ]
  },
  {
   "cell_type": "code",
   "execution_count": 101,
   "id": "d591df08",
   "metadata": {},
   "outputs": [],
   "source": [
    "save_data(\"disney_data_final.json\", movie_info_copy)"
   ]
  },
  {
   "cell_type": "code",
   "execution_count": 102,
   "id": "45a239ba",
   "metadata": {},
   "outputs": [],
   "source": [
    "import pandas as pd\n",
    "\n",
    "df = pd.DataFrame(movie_info_list)"
   ]
  },
  {
   "cell_type": "code",
   "execution_count": 103,
   "id": "ed76c098",
   "metadata": {},
   "outputs": [
    {
     "data": {
      "text/html": [
       "<div>\n",
       "<style scoped>\n",
       "    .dataframe tbody tr th:only-of-type {\n",
       "        vertical-align: middle;\n",
       "    }\n",
       "\n",
       "    .dataframe tbody tr th {\n",
       "        vertical-align: top;\n",
       "    }\n",
       "\n",
       "    .dataframe thead th {\n",
       "        text-align: right;\n",
       "    }\n",
       "</style>\n",
       "<table border=\"1\" class=\"dataframe\">\n",
       "  <thead>\n",
       "    <tr style=\"text-align: right;\">\n",
       "      <th></th>\n",
       "      <th>title</th>\n",
       "      <th>Production company</th>\n",
       "      <th>Distributed by</th>\n",
       "      <th>Release date</th>\n",
       "      <th>Running time</th>\n",
       "      <th>Country</th>\n",
       "      <th>Language</th>\n",
       "      <th>Box office</th>\n",
       "      <th>Running time (int)</th>\n",
       "      <th>Budget (float)</th>\n",
       "      <th>...</th>\n",
       "      <th>Hepburn</th>\n",
       "      <th>Adaptation by</th>\n",
       "      <th>Animation by</th>\n",
       "      <th>Traditional</th>\n",
       "      <th>Simplified</th>\n",
       "      <th>Original title</th>\n",
       "      <th>Layouts by</th>\n",
       "      <th>Created by</th>\n",
       "      <th>Original work</th>\n",
       "      <th>Owner</th>\n",
       "    </tr>\n",
       "  </thead>\n",
       "  <tbody>\n",
       "    <tr>\n",
       "      <th>0</th>\n",
       "      <td>Academy Award Review of</td>\n",
       "      <td>Walt Disney Productions</td>\n",
       "      <td>RKO Radio Pictures</td>\n",
       "      <td>[May 19, 1937]</td>\n",
       "      <td>41 minutes (74 minutes 1966 release)</td>\n",
       "      <td>United States</td>\n",
       "      <td>English</td>\n",
       "      <td>$45.472</td>\n",
       "      <td>41.0</td>\n",
       "      <td>NaN</td>\n",
       "      <td>...</td>\n",
       "      <td>NaN</td>\n",
       "      <td>NaN</td>\n",
       "      <td>NaN</td>\n",
       "      <td>NaN</td>\n",
       "      <td>NaN</td>\n",
       "      <td>NaN</td>\n",
       "      <td>NaN</td>\n",
       "      <td>NaN</td>\n",
       "      <td>NaN</td>\n",
       "      <td>NaN</td>\n",
       "    </tr>\n",
       "    <tr>\n",
       "      <th>1</th>\n",
       "      <td>Snow White and the Seven Dwarfs</td>\n",
       "      <td>Walt Disney Productions</td>\n",
       "      <td>RKO Radio Pictures</td>\n",
       "      <td>[December 21, 1937 ( Carthay Circle Theatre )]</td>\n",
       "      <td>83 minutes</td>\n",
       "      <td>United States</td>\n",
       "      <td>English</td>\n",
       "      <td>$418 million</td>\n",
       "      <td>83.0</td>\n",
       "      <td>1490000.0</td>\n",
       "      <td>...</td>\n",
       "      <td>NaN</td>\n",
       "      <td>NaN</td>\n",
       "      <td>NaN</td>\n",
       "      <td>NaN</td>\n",
       "      <td>NaN</td>\n",
       "      <td>NaN</td>\n",
       "      <td>NaN</td>\n",
       "      <td>NaN</td>\n",
       "      <td>NaN</td>\n",
       "      <td>NaN</td>\n",
       "    </tr>\n",
       "    <tr>\n",
       "      <th>2</th>\n",
       "      <td>Pinocchio</td>\n",
       "      <td>Walt Disney Productions</td>\n",
       "      <td>RKO Radio Pictures</td>\n",
       "      <td>[February 7, 1940 ( Center Theatre ), February...</td>\n",
       "      <td>88 minutes</td>\n",
       "      <td>United States</td>\n",
       "      <td>English</td>\n",
       "      <td>$164 million</td>\n",
       "      <td>88.0</td>\n",
       "      <td>2600000.0</td>\n",
       "      <td>...</td>\n",
       "      <td>NaN</td>\n",
       "      <td>NaN</td>\n",
       "      <td>NaN</td>\n",
       "      <td>NaN</td>\n",
       "      <td>NaN</td>\n",
       "      <td>NaN</td>\n",
       "      <td>NaN</td>\n",
       "      <td>NaN</td>\n",
       "      <td>NaN</td>\n",
       "      <td>NaN</td>\n",
       "    </tr>\n",
       "    <tr>\n",
       "      <th>3</th>\n",
       "      <td>Fantasia</td>\n",
       "      <td>Walt Disney Productions</td>\n",
       "      <td>RKO Radio Pictures</td>\n",
       "      <td>[November 13, 1940]</td>\n",
       "      <td>126 minutes</td>\n",
       "      <td>United States</td>\n",
       "      <td>English</td>\n",
       "      <td>$76.4–$83.3 million (United States and Canada)</td>\n",
       "      <td>126.0</td>\n",
       "      <td>2280000.0</td>\n",
       "      <td>...</td>\n",
       "      <td>NaN</td>\n",
       "      <td>NaN</td>\n",
       "      <td>NaN</td>\n",
       "      <td>NaN</td>\n",
       "      <td>NaN</td>\n",
       "      <td>NaN</td>\n",
       "      <td>NaN</td>\n",
       "      <td>NaN</td>\n",
       "      <td>NaN</td>\n",
       "      <td>NaN</td>\n",
       "    </tr>\n",
       "    <tr>\n",
       "      <th>4</th>\n",
       "      <td>The Reluctant Dragon</td>\n",
       "      <td>Walt Disney Productions</td>\n",
       "      <td>RKO Radio Pictures</td>\n",
       "      <td>[June 27, 1941]</td>\n",
       "      <td>74 minutes</td>\n",
       "      <td>United States</td>\n",
       "      <td>English</td>\n",
       "      <td>$960,000 (worldwide rentals)</td>\n",
       "      <td>74.0</td>\n",
       "      <td>600000.0</td>\n",
       "      <td>...</td>\n",
       "      <td>NaN</td>\n",
       "      <td>NaN</td>\n",
       "      <td>NaN</td>\n",
       "      <td>NaN</td>\n",
       "      <td>NaN</td>\n",
       "      <td>NaN</td>\n",
       "      <td>NaN</td>\n",
       "      <td>NaN</td>\n",
       "      <td>NaN</td>\n",
       "      <td>NaN</td>\n",
       "    </tr>\n",
       "  </tbody>\n",
       "</table>\n",
       "<p>5 rows × 42 columns</p>\n",
       "</div>"
      ],
      "text/plain": [
       "                             title       Production company  \\\n",
       "0          Academy Award Review of  Walt Disney Productions   \n",
       "1  Snow White and the Seven Dwarfs  Walt Disney Productions   \n",
       "2                        Pinocchio  Walt Disney Productions   \n",
       "3                         Fantasia  Walt Disney Productions   \n",
       "4             The Reluctant Dragon  Walt Disney Productions   \n",
       "\n",
       "       Distributed by                                       Release date  \\\n",
       "0  RKO Radio Pictures                                     [May 19, 1937]   \n",
       "1  RKO Radio Pictures     [December 21, 1937 ( Carthay Circle Theatre )]   \n",
       "2  RKO Radio Pictures  [February 7, 1940 ( Center Theatre ), February...   \n",
       "3  RKO Radio Pictures                                [November 13, 1940]   \n",
       "4  RKO Radio Pictures                                    [June 27, 1941]   \n",
       "\n",
       "                           Running time        Country Language  \\\n",
       "0  41 minutes (74 minutes 1966 release)  United States  English   \n",
       "1                            83 minutes  United States  English   \n",
       "2                            88 minutes  United States  English   \n",
       "3                           126 minutes  United States  English   \n",
       "4                            74 minutes  United States  English   \n",
       "\n",
       "                                       Box office  Running time (int)  \\\n",
       "0                                         $45.472                41.0   \n",
       "1                                    $418 million                83.0   \n",
       "2                                    $164 million                88.0   \n",
       "3  $76.4–$83.3 million (United States and Canada)               126.0   \n",
       "4                    $960,000 (worldwide rentals)                74.0   \n",
       "\n",
       "   Budget (float)  ...  Hepburn Adaptation by Animation by Traditional  \\\n",
       "0             NaN  ...      NaN           NaN          NaN         NaN   \n",
       "1       1490000.0  ...      NaN           NaN          NaN         NaN   \n",
       "2       2600000.0  ...      NaN           NaN          NaN         NaN   \n",
       "3       2280000.0  ...      NaN           NaN          NaN         NaN   \n",
       "4        600000.0  ...      NaN           NaN          NaN         NaN   \n",
       "\n",
       "  Simplified Original title Layouts by Created by Original work Owner  \n",
       "0        NaN            NaN        NaN        NaN           NaN   NaN  \n",
       "1        NaN            NaN        NaN        NaN           NaN   NaN  \n",
       "2        NaN            NaN        NaN        NaN           NaN   NaN  \n",
       "3        NaN            NaN        NaN        NaN           NaN   NaN  \n",
       "4        NaN            NaN        NaN        NaN           NaN   NaN  \n",
       "\n",
       "[5 rows x 42 columns]"
      ]
     },
     "execution_count": 103,
     "metadata": {},
     "output_type": "execute_result"
    }
   ],
   "source": [
    "df.head(5)"
   ]
  },
  {
   "cell_type": "code",
   "execution_count": 104,
   "id": "c8f7aa2b",
   "metadata": {},
   "outputs": [],
   "source": [
    "df.to_csv(\"disney_movie_data_final.csv\")"
   ]
  },
  {
   "cell_type": "code",
   "execution_count": 107,
   "id": "497b1b9a",
   "metadata": {},
   "outputs": [
    {
     "data": {
      "text/html": [
       "<div>\n",
       "<style scoped>\n",
       "    .dataframe tbody tr th:only-of-type {\n",
       "        vertical-align: middle;\n",
       "    }\n",
       "\n",
       "    .dataframe tbody tr th {\n",
       "        vertical-align: top;\n",
       "    }\n",
       "\n",
       "    .dataframe thead th {\n",
       "        text-align: right;\n",
       "    }\n",
       "</style>\n",
       "<table border=\"1\" class=\"dataframe\">\n",
       "  <thead>\n",
       "    <tr style=\"text-align: right;\">\n",
       "      <th></th>\n",
       "      <th>title</th>\n",
       "      <th>Production company</th>\n",
       "      <th>Distributed by</th>\n",
       "      <th>Release date</th>\n",
       "      <th>Running time</th>\n",
       "      <th>Country</th>\n",
       "      <th>Language</th>\n",
       "      <th>Box office</th>\n",
       "      <th>Running time (int)</th>\n",
       "      <th>Budget (float)</th>\n",
       "      <th>...</th>\n",
       "      <th>Hepburn</th>\n",
       "      <th>Adaptation by</th>\n",
       "      <th>Animation by</th>\n",
       "      <th>Traditional</th>\n",
       "      <th>Simplified</th>\n",
       "      <th>Original title</th>\n",
       "      <th>Layouts by</th>\n",
       "      <th>Created by</th>\n",
       "      <th>Original work</th>\n",
       "      <th>Owner</th>\n",
       "    </tr>\n",
       "  </thead>\n",
       "  <tbody>\n",
       "    <tr>\n",
       "      <th>285</th>\n",
       "      <td>Sacred Planet</td>\n",
       "      <td>Walt Disney Pictures</td>\n",
       "      <td>Buena Vista Pictures</td>\n",
       "      <td>[April 22, 2004]</td>\n",
       "      <td>40 minutes</td>\n",
       "      <td>NaN</td>\n",
       "      <td>English</td>\n",
       "      <td>$1,108,356</td>\n",
       "      <td>40.0</td>\n",
       "      <td>NaN</td>\n",
       "      <td>...</td>\n",
       "      <td>NaN</td>\n",
       "      <td>NaN</td>\n",
       "      <td>NaN</td>\n",
       "      <td>NaN</td>\n",
       "      <td>NaN</td>\n",
       "      <td>NaN</td>\n",
       "      <td>NaN</td>\n",
       "      <td>NaN</td>\n",
       "      <td>NaN</td>\n",
       "      <td>NaN</td>\n",
       "    </tr>\n",
       "    <tr>\n",
       "      <th>311</th>\n",
       "      <td>Roving Mars</td>\n",
       "      <td>NaN</td>\n",
       "      <td>Buena Vista Pictures</td>\n",
       "      <td>[January 27, 2006]</td>\n",
       "      <td>40 minutes</td>\n",
       "      <td>United States</td>\n",
       "      <td>English</td>\n",
       "      <td>$11 million</td>\n",
       "      <td>40.0</td>\n",
       "      <td>1000000.0</td>\n",
       "      <td>...</td>\n",
       "      <td>NaN</td>\n",
       "      <td>NaN</td>\n",
       "      <td>NaN</td>\n",
       "      <td>NaN</td>\n",
       "      <td>NaN</td>\n",
       "      <td>NaN</td>\n",
       "      <td>NaN</td>\n",
       "      <td>NaN</td>\n",
       "      <td>NaN</td>\n",
       "      <td>NaN</td>\n",
       "    </tr>\n",
       "    <tr>\n",
       "      <th>0</th>\n",
       "      <td>Academy Award Review of</td>\n",
       "      <td>Walt Disney Productions</td>\n",
       "      <td>RKO Radio Pictures</td>\n",
       "      <td>[May 19, 1937]</td>\n",
       "      <td>41 minutes (74 minutes 1966 release)</td>\n",
       "      <td>United States</td>\n",
       "      <td>English</td>\n",
       "      <td>$45.472</td>\n",
       "      <td>41.0</td>\n",
       "      <td>NaN</td>\n",
       "      <td>...</td>\n",
       "      <td>NaN</td>\n",
       "      <td>NaN</td>\n",
       "      <td>NaN</td>\n",
       "      <td>NaN</td>\n",
       "      <td>NaN</td>\n",
       "      <td>NaN</td>\n",
       "      <td>NaN</td>\n",
       "      <td>NaN</td>\n",
       "      <td>NaN</td>\n",
       "      <td>NaN</td>\n",
       "    </tr>\n",
       "    <tr>\n",
       "      <th>7</th>\n",
       "      <td>Saludos Amigos</td>\n",
       "      <td>Walt Disney Productions</td>\n",
       "      <td>RKO Radio Pictures</td>\n",
       "      <td>[August 24, 1942 (World Premiere – Rio de Jane...</td>\n",
       "      <td>42 minutes</td>\n",
       "      <td>United States</td>\n",
       "      <td>NaN</td>\n",
       "      <td>$1.135 million (worldwide rentals)</td>\n",
       "      <td>42.0</td>\n",
       "      <td>NaN</td>\n",
       "      <td>...</td>\n",
       "      <td>NaN</td>\n",
       "      <td>NaN</td>\n",
       "      <td>NaN</td>\n",
       "      <td>NaN</td>\n",
       "      <td>NaN</td>\n",
       "      <td>NaN</td>\n",
       "      <td>NaN</td>\n",
       "      <td>NaN</td>\n",
       "      <td>NaN</td>\n",
       "      <td>NaN</td>\n",
       "    </tr>\n",
       "    <tr>\n",
       "      <th>130</th>\n",
       "      <td>A Tale of Two Critters</td>\n",
       "      <td>Walt Disney Productions</td>\n",
       "      <td>Buena Vista Distribution</td>\n",
       "      <td>[June 20, 1977]</td>\n",
       "      <td>48 minutes</td>\n",
       "      <td>United States</td>\n",
       "      <td>English</td>\n",
       "      <td>NaN</td>\n",
       "      <td>48.0</td>\n",
       "      <td>NaN</td>\n",
       "      <td>...</td>\n",
       "      <td>NaN</td>\n",
       "      <td>NaN</td>\n",
       "      <td>NaN</td>\n",
       "      <td>NaN</td>\n",
       "      <td>NaN</td>\n",
       "      <td>NaN</td>\n",
       "      <td>NaN</td>\n",
       "      <td>NaN</td>\n",
       "      <td>NaN</td>\n",
       "      <td>NaN</td>\n",
       "    </tr>\n",
       "  </tbody>\n",
       "</table>\n",
       "<p>5 rows × 42 columns</p>\n",
       "</div>"
      ],
      "text/plain": [
       "                       title       Production company  \\\n",
       "285            Sacred Planet     Walt Disney Pictures   \n",
       "311              Roving Mars                      NaN   \n",
       "0    Academy Award Review of  Walt Disney Productions   \n",
       "7             Saludos Amigos  Walt Disney Productions   \n",
       "130   A Tale of Two Critters  Walt Disney Productions   \n",
       "\n",
       "               Distributed by  \\\n",
       "285      Buena Vista Pictures   \n",
       "311      Buena Vista Pictures   \n",
       "0          RKO Radio Pictures   \n",
       "7          RKO Radio Pictures   \n",
       "130  Buena Vista Distribution   \n",
       "\n",
       "                                          Release date  \\\n",
       "285                                   [April 22, 2004]   \n",
       "311                                 [January 27, 2006]   \n",
       "0                                       [May 19, 1937]   \n",
       "7    [August 24, 1942 (World Premiere – Rio de Jane...   \n",
       "130                                    [June 20, 1977]   \n",
       "\n",
       "                             Running time        Country Language  \\\n",
       "285                            40 minutes            NaN  English   \n",
       "311                            40 minutes  United States  English   \n",
       "0    41 minutes (74 minutes 1966 release)  United States  English   \n",
       "7                              42 minutes  United States      NaN   \n",
       "130                            48 minutes  United States  English   \n",
       "\n",
       "                             Box office  Running time (int)  Budget (float)  \\\n",
       "285                          $1,108,356                40.0             NaN   \n",
       "311                         $11 million                40.0       1000000.0   \n",
       "0                               $45.472                41.0             NaN   \n",
       "7    $1.135 million (worldwide rentals)                42.0             NaN   \n",
       "130                                 NaN                48.0             NaN   \n",
       "\n",
       "     ...  Hepburn Adaptation by Animation by Traditional Simplified  \\\n",
       "285  ...      NaN           NaN          NaN         NaN        NaN   \n",
       "311  ...      NaN           NaN          NaN         NaN        NaN   \n",
       "0    ...      NaN           NaN          NaN         NaN        NaN   \n",
       "7    ...      NaN           NaN          NaN         NaN        NaN   \n",
       "130  ...      NaN           NaN          NaN         NaN        NaN   \n",
       "\n",
       "    Original title Layouts by Created by Original work Owner  \n",
       "285            NaN        NaN        NaN           NaN   NaN  \n",
       "311            NaN        NaN        NaN           NaN   NaN  \n",
       "0              NaN        NaN        NaN           NaN   NaN  \n",
       "7              NaN        NaN        NaN           NaN   NaN  \n",
       "130            NaN        NaN        NaN           NaN   NaN  \n",
       "\n",
       "[5 rows x 42 columns]"
      ]
     },
     "execution_count": 107,
     "metadata": {},
     "output_type": "execute_result"
    }
   ],
   "source": [
    "running_times = df.sort_values(['Running time (int)'], ascending=True)\n",
    "running_times.head()"
   ]
  },
  {
   "cell_type": "code",
   "execution_count": null,
   "id": "08d479e8",
   "metadata": {},
   "outputs": [],
   "source": []
  },
  {
   "cell_type": "code",
   "execution_count": null,
   "id": "1fd10db7",
   "metadata": {},
   "outputs": [],
   "source": []
  },
  {
   "cell_type": "code",
   "execution_count": null,
   "id": "256487a6",
   "metadata": {},
   "outputs": [],
   "source": []
  }
 ],
 "metadata": {
  "kernelspec": {
   "display_name": "Python 3 (ipykernel)",
   "language": "python",
   "name": "python3"
  },
  "language_info": {
   "codemirror_mode": {
    "name": "ipython",
    "version": 3
   },
   "file_extension": ".py",
   "mimetype": "text/x-python",
   "name": "python",
   "nbconvert_exporter": "python",
   "pygments_lexer": "ipython3",
   "version": "3.10.0"
  }
 },
 "nbformat": 4,
 "nbformat_minor": 5
}
