{
 "cells": [
  {
   "cell_type": "markdown",
   "id": "ffc09304",
   "metadata": {},
   "source": [
    "### Get all the info box for all movies"
   ]
  },
  {
   "cell_type": "code",
   "execution_count": 1,
   "id": "5003f516",
   "metadata": {},
   "outputs": [],
   "source": [
    "from bs4 import BeautifulSoup as bs\n",
    "import requests"
   ]
  },
  {
   "cell_type": "markdown",
   "id": "236c0264",
   "metadata": {},
   "source": [
    "### Load the webpage"
   ]
  },
  {
   "cell_type": "code",
   "execution_count": 2,
   "id": "545ad4e1",
   "metadata": {},
   "outputs": [],
   "source": [
    "r = requests.get(\"https://en.wikipedia.org/wiki/List_of_Walt_Disney_Pictures_films\")\n",
    "\n",
    "#Convert to a beautifulsoup object\n",
    "soup = bs(r.content, 'html.parser')\n",
    "\n",
    "# content = soup.prettify()\n",
    "# content"
   ]
  },
  {
   "cell_type": "code",
   "execution_count": 4,
   "id": "10495809",
   "metadata": {},
   "outputs": [],
   "source": [
    "#soup.find_all(class_='wikitable sortable jquery-tablesorter')은 []을 리턴한다. \n",
    "#즉 find로 찾아지지 않으면 조금더 정확하게 찾을수 있는 CSS선택자로 찾자\n",
    "#그래서 .select로 진행 .class1.class2 라는 CSS선택자 형태로 찾아 보자\n",
    "\n",
    "# 1. CSS선택자로 테이블 형태를 찾는다\n",
    "# movies = soup.select('.wikitable.sortable') # 이렇게 하면 찾아 진다. \n",
    "\n",
    "# 2. 테이블 구성을 보니 <tbody> -> <tr> -> <td> -> <i> 태그가 링크를 가지고 있다\n",
    "movies = soup.select('.wikitable.sortable i') # 이렇게하면 i를 포함하고있는 '.wikitable.sortable i' 테이블을 리턴\n",
    "# movies[0:10]\n",
    "#print(movies[0].a['href']) #movies에서 [0]번째 인덱스 위치의 <a>태그가 가진 'href' 출력\n",
    "#print(movies[0].a['title']) #movies에서 [0]번째 인덱스 위치의 <a>태그가 가진 'title' 출력"
   ]
  },
  {
   "cell_type": "code",
   "execution_count": 5,
   "id": "36933d31",
   "metadata": {},
   "outputs": [],
   "source": [
    "def get_content_value(row_data):\n",
    "#     print(row_data)\n",
    "    \n",
    "    if row_data.find('li'):\n",
    "        return [li.get_text(\" \", strip=True).replace(\"\\xa0\", \" \") for li in row_data.find_all('li')]\n",
    "    else:\n",
    "        return row_data.get_text(\" \", strip=True).replace(\"\\xa0\", \" \")\n",
    "\n",
    "def get_info_box(url):\n",
    "    \n",
    "    r = requests.get(url)\n",
    "\n",
    "    #Convert to a beautifulsoup object\n",
    "    soup = bs(r.content, 'html.parser')\n",
    "    info_box = soup.find(class_=\"infobox vevent\")\n",
    "    info_rows = info_box.find_all('tr')\n",
    "    \n",
    "    movie_info = {}\n",
    "    \n",
    "    for idx, row in enumerate(info_rows):\n",
    "        if idx == 0: # 타이틀의 인덱스는 = 0\n",
    "            movie = row.find('th').get_text(\" \", strip=True)\n",
    "        elif idx == 1:\n",
    "            continue\n",
    "        else:\n",
    "            content_key = row.find('th').get_text(\" \", strip=True)\n",
    "#             print(content_key)\n",
    "            content_value = get_content_value(row.find('td')) #이 부분이 get_content_value를 탐\n",
    "            movie_info[content_key] = content_value\n",
    "        \n",
    "    return movie_info"
   ]
  },
  {
   "cell_type": "code",
   "execution_count": 4,
   "id": "007aca41",
   "metadata": {},
   "outputs": [
    {
     "name": "stdout",
     "output_type": "stream",
     "text": [
      "Zorro the Avenger\n",
      "'NoneType' object has no attribute 'find'\n",
      "The Sign of Zorro\n",
      "'NoneType' object has no attribute 'find'\n",
      "True-Life Adventures\n",
      "'NoneType' object has no attribute 'find_all'\n",
      "The London Connection\n",
      "'NoneType' object has no attribute 'find'\n",
      "Spirited Away\n",
      "'NoneType' object has no attribute 'get_text'\n",
      "Howl's Moving Castle\n",
      "'NoneType' object has no attribute 'get_text'\n",
      "The Nightmare Before Christmas 3D\n",
      "'NoneType' object has no attribute 'get_text'\n",
      "The Secret of the Magic Gourd\n",
      "'NoneType' object has no attribute 'get_text'\n",
      "Ponyo\n",
      "'NoneType' object has no attribute 'get_text'\n",
      "Tales from Earthsea\n",
      "'NoneType' object has no attribute 'get_text'\n",
      "Anaganaga O Dheerudu\n",
      "'NoneType' object has no attribute 'get_text'\n",
      "The Secret World of Arrietty\n",
      "'NoneType' object has no attribute 'get_text'\n",
      "Tini: The Movie\n",
      "'NoneType' object has no attribute 'get_text'\n",
      "Born in China\n",
      "'NoneType' object has no attribute 'get_text'\n",
      "Sister Act 3\n",
      "'NoneType' object has no attribute 'find'\n",
      "Tower of Terror\n",
      "'NoneType' object has no attribute 'find_all'\n",
      "Tron: Ares\n",
      "'NoneType' object has no attribute 'find'\n"
     ]
    }
   ],
   "source": [
    "r = requests.get(\"https://en.wikipedia.org/wiki/List_of_Walt_Disney_Pictures_films\")\n",
    "\n",
    "#Convert to a beautifulsoup object\n",
    "soup = bs(r.content, 'html.parser')\n",
    "\n",
    "\n",
    "# movies = soup.select('.wikitable.sortable i')으로는 아래의 Nonetype이 있으므로 조금 더 구체적으로 가져오자\n",
    "movies = soup.select('.wikitable.sortable i a') #즉 <i>태그 중 <a>를 가진 것만 들고 옴\n",
    "# print(len(movies)) #NoneType 제외하고 개수를 확인 510개로 나옴\n",
    "\n",
    "\n",
    "base_path = \"https://en.wikipedia.org/\" #기본 url을 세팅 후\n",
    "\n",
    "\n",
    "movie_info_list = [] #들고 오는 내용을 담을 리스트\n",
    "for index, movie in enumerate(movies):\n",
    "    #디버깅용\n",
    "#     if index == 10:\n",
    "#         break     \n",
    "    try:\n",
    "        relative_path = movie['href']\n",
    "        full_path = base_path + relative_path #긁어오는 'href'를 더해서 full_path 만든 후 함수에 삽입\n",
    "        title = movie['title']\n",
    "#         relative_path = movie.a['href'] # <i>태그 중 <a>만 들고 오니 .a는 생략\n",
    "#         title = movie.a['title']\n",
    "        #위의 결과들을 print 해보면 relative_path가 가져오는 'href'가 없는 부분이 있다. 여기서 try/catch가 필요\n",
    "#         print(relative_path)\n",
    "#         print(title)\n",
    "#         print()\n",
    "        \n",
    "        movie_info_list.append(get_info_box(full_path)) #여기에 들어갈 url 세팅 (base_path + full_path)\n",
    "        \n",
    "    except Exception as e: #즉 오류부분이면 여기를타고 아래를 실행 \n",
    "        print(movie.get_text()) #이 부분에서 어떤 movie에서 오류가 나오는지 보인다\n",
    "        #몇몇의 movie가 테이블의 Title에서 'href'를 들고오는게아닌 'Note'부분에서 들고 온다. \n",
    "        #몇몇의 movie가 테이블의 Title에서 'href'를 들고 오지만, 링크가 아는 형태이다.\n",
    "        \n",
    "        #최종코드에서 돌려보면 여전히 몇몇의 movie가 find/find_all/get_text가 안된다\n",
    "        print(e)"
   ]
  },
  {
   "cell_type": "code",
   "execution_count": 21,
   "id": "e47bb37e",
   "metadata": {},
   "outputs": [
    {
     "data": {
      "text/plain": [
       "{'Production company': 'Walt Disney Productions',\n",
       " 'Distributed by': 'RKO Radio Pictures',\n",
       " 'Release date': ['May 19, 1937 ( 1937-05-19 )'],\n",
       " 'Running time': '41 minutes (74 minutes 1966 release)',\n",
       " 'Country': 'United States',\n",
       " 'Language': 'English',\n",
       " 'Box office': '$45.472'}"
      ]
     },
     "execution_count": 21,
     "metadata": {},
     "output_type": "execute_result"
    }
   ],
   "source": [
    "len(movie_info_list)"
   ]
  },
  {
   "cell_type": "code",
   "execution_count": null,
   "id": "1cc8f5ac",
   "metadata": {},
   "outputs": [],
   "source": [
    "#movie_info_list[0]"
   ]
  },
  {
   "cell_type": "markdown",
   "id": "5757aa9e",
   "metadata": {},
   "source": [
    "### Save/Reload Movie Data"
   ]
  },
  {
   "cell_type": "code",
   "execution_count": 8,
   "id": "cd40bf0a",
   "metadata": {},
   "outputs": [],
   "source": [
    "import json\n",
    "\n",
    "#JSON 형태로 저장\n",
    "def save_data(title, data):\n",
    "    with open(title, 'w', encoding='utf-8') as f:\n",
    "        #json.dumps() = Python 객체를 JSON으로 변환\n",
    "        #ensure_ascii - true면 모든 비 ASCII 문자가 출력 안됨, False면 문자 그대로 출력\n",
    "        #indent - 인덱스폭 (문자 수) 지정\n",
    "        json.dump(data, f, ensure_ascii=False, indent=2)"
   ]
  },
  {
   "cell_type": "code",
   "execution_count": 9,
   "id": "76391372",
   "metadata": {},
   "outputs": [],
   "source": [
    "#JSON 형태로 로드\n",
    "def load_data(title):\n",
    "    with open(title, encoding='utf-8') as f:\n",
    "        return json.load(f)"
   ]
  },
  {
   "cell_type": "code",
   "execution_count": 10,
   "id": "b591647b",
   "metadata": {},
   "outputs": [],
   "source": [
    "save_data(\"Disney_data.json\", movie_info_list)"
   ]
  },
  {
   "cell_type": "code",
   "execution_count": null,
   "id": "a15d1874",
   "metadata": {},
   "outputs": [],
   "source": []
  },
  {
   "cell_type": "code",
   "execution_count": null,
   "id": "57716669",
   "metadata": {},
   "outputs": [],
   "source": []
  },
  {
   "cell_type": "code",
   "execution_count": null,
   "id": "6e93e3e6",
   "metadata": {},
   "outputs": [],
   "source": []
  },
  {
   "cell_type": "code",
   "execution_count": null,
   "id": "a618e612",
   "metadata": {},
   "outputs": [],
   "source": []
  },
  {
   "cell_type": "code",
   "execution_count": null,
   "id": "7482dda7",
   "metadata": {},
   "outputs": [],
   "source": []
  },
  {
   "cell_type": "code",
   "execution_count": null,
   "id": "ee4311b9",
   "metadata": {},
   "outputs": [],
   "source": []
  },
  {
   "cell_type": "code",
   "execution_count": null,
   "id": "44d53dca",
   "metadata": {},
   "outputs": [],
   "source": []
  },
  {
   "cell_type": "code",
   "execution_count": null,
   "id": "aa43a743",
   "metadata": {},
   "outputs": [],
   "source": []
  }
 ],
 "metadata": {
  "kernelspec": {
   "display_name": "Python 3 (ipykernel)",
   "language": "python",
   "name": "python3"
  },
  "language_info": {
   "codemirror_mode": {
    "name": "ipython",
    "version": 3
   },
   "file_extension": ".py",
   "mimetype": "text/x-python",
   "name": "python",
   "nbconvert_exporter": "python",
   "pygments_lexer": "ipython3",
   "version": "3.10.0"
  }
 },
 "nbformat": 4,
 "nbformat_minor": 5
}
