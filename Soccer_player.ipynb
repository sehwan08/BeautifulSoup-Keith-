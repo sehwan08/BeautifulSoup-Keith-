{
 "cells": [
  {
   "cell_type": "code",
   "execution_count": 119,
   "id": "c855e2ff",
   "metadata": {},
   "outputs": [],
   "source": [
    "from bs4 import BeautifulSoup as bs\n",
    "import requests\n",
    "import pandas as pd"
   ]
  },
  {
   "cell_type": "code",
   "execution_count": 121,
   "id": "89109e45",
   "metadata": {},
   "outputs": [],
   "source": [
    "r = requests.get(\"https://en.wikipedia.org/wiki/Lee_Seung-woo\")\n",
    "soup = bs(r.content, 'html.parser')"
   ]
  },
  {
   "cell_type": "markdown",
   "id": "be9b63bc",
   "metadata": {},
   "source": [
    "### 방법 1"
   ]
  },
  {
   "cell_type": "code",
   "execution_count": 122,
   "id": "9261ed45",
   "metadata": {
    "scrolled": true
   },
   "outputs": [
    {
     "name": "stdout",
     "output_type": "stream",
     "text": [
      "8\n",
      "\n",
      "Lee Seung-woo\n",
      "\n",
      " (1998-01-06) January 6, 1998 (age 23)\n",
      "\n",
      "Suwon, Gyeonggi, South Korea\n",
      "\n",
      "1.68 m (5 ft 6 in)[1]\n",
      "\n",
      "WingerAttacking midfielder[2]\n",
      "\n",
      "Suwon FC\n",
      "\n",
      "Kwangsung Middle School\n",
      "\n",
      "Barcelona\n"
     ]
    }
   ],
   "source": [
    "# name = soup.find(class_=\"infobox-title fn\").get_text() #이름\n",
    "\n",
    "info_box = soup.find(class_='infobox vcard')\n",
    "items = info_box.find_all('td', {'colspan':'3'})\n",
    "\n",
    "print(len(items))\n",
    "\n",
    "for i in items:\n",
    "    print(i.get_text())"
   ]
  },
  {
   "cell_type": "markdown",
   "id": "3f0449d9",
   "metadata": {},
   "source": [
    "### 고민을 엄청 많이 했었다. 인포박스가 있지만 중간 중간에 파란색 박스부분이 끼어있기때문에 전체 tr, td를 들고 온들 None 오류라던지 index 에러가 떳다.\n",
    "### 가장 쉬운 방법은 정확하게 'items = info_box.find_all('td', {'colspan':'3'})' 찾아 들고와서 처리하면 된다는 것!"
   ]
  },
  {
   "cell_type": "code",
   "execution_count": 144,
   "id": "543ae740",
   "metadata": {
    "scrolled": true
   },
   "outputs": [
    {
     "data": {
      "text/html": [
       "<div>\n",
       "<style scoped>\n",
       "    .dataframe tbody tr th:only-of-type {\n",
       "        vertical-align: middle;\n",
       "    }\n",
       "\n",
       "    .dataframe tbody tr th {\n",
       "        vertical-align: top;\n",
       "    }\n",
       "\n",
       "    .dataframe thead th {\n",
       "        text-align: right;\n",
       "    }\n",
       "</style>\n",
       "<table border=\"1\" class=\"dataframe\">\n",
       "  <thead>\n",
       "    <tr style=\"text-align: right;\">\n",
       "      <th></th>\n",
       "      <th>Name</th>\n",
       "      <th>Birth-Day</th>\n",
       "      <th>Address</th>\n",
       "      <th>Height</th>\n",
       "      <th>Position</th>\n",
       "      <th>Team</th>\n",
       "    </tr>\n",
       "  </thead>\n",
       "  <tbody>\n",
       "    <tr>\n",
       "      <th>0</th>\n",
       "      <td>Lee Seung-woo</td>\n",
       "      <td>(1998-01-06) January 6, 1998 (age 23)</td>\n",
       "      <td>Suwon, Gyeonggi, South Korea</td>\n",
       "      <td>1.68 m (5 ft 6 in)</td>\n",
       "      <td>Winger Attacking midfielder</td>\n",
       "      <td>Suwon FC</td>\n",
       "    </tr>\n",
       "  </tbody>\n",
       "</table>\n",
       "</div>"
      ],
      "text/plain": [
       "            Name                              Birth-Day  \\\n",
       "0  Lee Seung-woo  (1998-01-06) January 6, 1998 (age 23)   \n",
       "\n",
       "                        Address              Height  \\\n",
       "0  Suwon, Gyeonggi, South Korea  1.68 m (5 ft 6 in)   \n",
       "\n",
       "                      Position      Team  \n",
       "0  Winger Attacking midfielder  Suwon FC  "
      ]
     },
     "execution_count": 144,
     "metadata": {},
     "output_type": "execute_result"
    }
   ],
   "source": [
    "for info in info_box:\n",
    "    \n",
    "    info_df = pd.DataFrame(columns = (\"Name\", \"Birth-Day\", \"Address\", \"Height\", \"Position\", \"Team\"))\n",
    "    \n",
    "    items = info_box.find_all('td', {'colspan':'3'})\n",
    "    name = items[0].get_text().strip()\n",
    "    bd = items[1].get_text().strip()\n",
    "    add = items[2].get_text().strip()\n",
    "    \n",
    "    height = items[3].get_text().strip()\n",
    "    height = height.replace(\"[1]\", \"\")\n",
    "#     height = height.replace(\"1.68 m (5 ft 6 in)[1]\", \"\")\n",
    "    \n",
    "    position = items[4].get_text().strip()\n",
    "    position = position.replace(\"WingerAttacking midfielder[2]\", \"Winger Attacking midfielder\")\n",
    "    \n",
    "    team = items[5].get_text().strip()\n",
    "    \n",
    "    info_df.loc[0] = [name, bd, add, height, position, team]\n",
    "    \n",
    "    \n",
    "info_df"
   ]
  },
  {
   "cell_type": "code",
   "execution_count": null,
   "id": "b0676911",
   "metadata": {},
   "outputs": [],
   "source": []
  },
  {
   "cell_type": "code",
   "execution_count": null,
   "id": "4fcf3ee6",
   "metadata": {},
   "outputs": [],
   "source": []
  },
  {
   "cell_type": "code",
   "execution_count": null,
   "id": "098d76e6",
   "metadata": {},
   "outputs": [],
   "source": []
  },
  {
   "cell_type": "code",
   "execution_count": null,
   "id": "758c0ddd",
   "metadata": {},
   "outputs": [],
   "source": []
  },
  {
   "cell_type": "code",
   "execution_count": null,
   "id": "1cc893a4",
   "metadata": {},
   "outputs": [],
   "source": []
  },
  {
   "cell_type": "code",
   "execution_count": null,
   "id": "4f29b958",
   "metadata": {},
   "outputs": [],
   "source": []
  }
 ],
 "metadata": {
  "kernelspec": {
   "display_name": "Python 3 (ipykernel)",
   "language": "python",
   "name": "python3"
  },
  "language_info": {
   "codemirror_mode": {
    "name": "ipython",
    "version": 3
   },
   "file_extension": ".py",
   "mimetype": "text/x-python",
   "name": "python",
   "nbconvert_exporter": "python",
   "pygments_lexer": "ipython3",
   "version": "3.10.0"
  }
 },
 "nbformat": 4,
 "nbformat_minor": 5
}
